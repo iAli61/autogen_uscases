{
 "cells": [
  {
   "cell_type": "code",
   "execution_count": 13,
   "metadata": {},
   "outputs": [],
   "source": [
    "import base64\n",
    "import datetime\n",
    "import json\n",
    "import os\n",
    "import openai\n",
    "import requests\n",
    "import shutil\n",
    "import time\n",
    "\n",
    "from dotenv import load_dotenv\n",
    "from PIL import Image as PILimage\n",
    "from spire.pdf.common import *\n",
    "from spire.pdf import *"
   ]
  },
  {
   "cell_type": "code",
   "execution_count": 14,
   "metadata": {},
   "outputs": [
    {
     "name": "stdout",
     "output_type": "stream",
     "text": [
      "Today is: 12-Jun-2024 10:32:27\n"
     ]
    }
   ],
   "source": [
    "print('Today is:', datetime.datetime.today().strftime ('%d-%b-%Y %H:%M:%S'))"
   ]
  },
  {
   "cell_type": "code",
   "execution_count": 15,
   "metadata": {},
   "outputs": [],
   "source": [
    "pdf_file = \"/workspaces/autogen-new/usecases/polymer_representation/polymer_rep/0.0.2/pdf_output/2010.07683v1.pdf\""
   ]
  },
  {
   "cell_type": "code",
   "execution_count": 16,
   "metadata": {},
   "outputs": [],
   "source": [
    "output_dir = \"extracted_images\"\n",
    "\n",
    "if not os.path.exists(output_dir):\n",
    "    os.makedirs(output_dir)"
   ]
  },
  {
   "cell_type": "code",
   "execution_count": 17,
   "metadata": {},
   "outputs": [],
   "source": [
    "# Desired output image format\n",
    "output_format = \"png\"\n",
    "\n",
    "# Minimum width and height for extracted images\n",
    "min_width = 100\n",
    "min_height = 100"
   ]
  },
  {
   "cell_type": "code",
   "execution_count": 18,
   "metadata": {},
   "outputs": [
    {
     "name": "stdout",
     "output_type": "stream",
     "text": [
      "Extracting images from PDF file /workspaces/autogen-new/usecases/polymer_representation/polymer_rep/0.0.2/pdf_output/2010.07683v1.pdf\n",
      "\n",
      "Error extracting images from page 1: 'PdfPageBase' object has no attribute 'ExtractImages'\n",
      "Error extracting images from page 2: 'PdfPageBase' object has no attribute 'ExtractImages'\n",
      "Error extracting images from page 3: 'PdfPageBase' object has no attribute 'ExtractImages'\n",
      "Error extracting images from page 4: 'PdfPageBase' object has no attribute 'ExtractImages'\n",
      "Error extracting images from page 5: 'PdfPageBase' object has no attribute 'ExtractImages'\n",
      "Error extracting images from page 6: 'PdfPageBase' object has no attribute 'ExtractImages'\n",
      "Error extracting images from page 7: 'PdfPageBase' object has no attribute 'ExtractImages'\n",
      "Error extracting images from page 8: 'PdfPageBase' object has no attribute 'ExtractImages'\n",
      "Error extracting images from page 9: 'PdfPageBase' object has no attribute 'ExtractImages'\n",
      "Error extracting images from page 10: 'PdfPageBase' object has no attribute 'ExtractImages'\n",
      "Error extracting images from page 11: 'PdfPageBase' object has no attribute 'ExtractImages'\n",
      "Error extracting images from page 12: 'PdfPageBase' object has no attribute 'ExtractImages'\n",
      "Error extracting images from page 13: 'PdfPageBase' object has no attribute 'ExtractImages'\n",
      "Error extracting images from page 14: 'PdfPageBase' object has no attribute 'ExtractImages'\n",
      "Error extracting images from page 15: 'PdfPageBase' object has no attribute 'ExtractImages'\n",
      "Error extracting images from page 16: 'PdfPageBase' object has no attribute 'ExtractImages'\n",
      "Error extracting images from page 17: 'PdfPageBase' object has no attribute 'ExtractImages'\n",
      "Error extracting images from page 18: 'PdfPageBase' object has no attribute 'ExtractImages'\n",
      "Error extracting images from page 19: 'PdfPageBase' object has no attribute 'ExtractImages'\n",
      "Error extracting images from page 20: 'PdfPageBase' object has no attribute 'ExtractImages'\n",
      "Error extracting images from page 21: 'PdfPageBase' object has no attribute 'ExtractImages'\n",
      "Error extracting images from page 22: 'PdfPageBase' object has no attribute 'ExtractImages'\n",
      "Error extracting images from page 23: 'PdfPageBase' object has no attribute 'ExtractImages'\n",
      "Error extracting images from page 24: 'PdfPageBase' object has no attribute 'ExtractImages'\n",
      "Error extracting images from page 25: 'PdfPageBase' object has no attribute 'ExtractImages'\n",
      "Error extracting images from page 26: 'PdfPageBase' object has no attribute 'ExtractImages'\n",
      "Error extracting images from page 27: 'PdfPageBase' object has no attribute 'ExtractImages'\n",
      "Error extracting images from page 28: 'PdfPageBase' object has no attribute 'ExtractImages'\n",
      "Error extracting images from page 29: 'PdfPageBase' object has no attribute 'ExtractImages'\n",
      "Error extracting images from page 30: 'PdfPageBase' object has no attribute 'ExtractImages'\n",
      "\n",
      "Done\n",
      "0 images were saved.\n"
     ]
    }
   ],
   "source": [
    "# Reading the pdf file\n",
    "doc = PdfDocument()\n",
    "doc.LoadFromFile(pdf_file)\n",
    "\n",
    "images_list = []\n",
    "nb = 0\n",
    "print(f\"Extracting images from PDF file {pdf_file}\\n\")\n",
    "\n",
    "# For each page\n",
    "for p in range(doc.Pages.Count):\n",
    "    page = doc.Pages.get_Item(p)\n",
    "    idx = 1\n",
    "    # Extract any image from the page and save each image to a png file\n",
    "    try:\n",
    "        for image in page.ExtractImages():\n",
    "            image_file = (\n",
    "                image_file\n",
    "            ) = f\"{images_dir}/{os.path.splitext(os.path.basename(pdf_file))[0]}_page_{p + 1:03}_nb_{idx:02}.png\"\n",
    "            image.Save(image_file, ImageFormat.get_Png())\n",
    "            print(f\"{nb + 1:04} Saving image to {image_file}\")\n",
    "            images_list.append(image_file)\n",
    "            idx += 1\n",
    "            nb += 1\n",
    "    except Exception as e:\n",
    "        print(f\"Error extracting images from page {p + 1}: {e}\")\n",
    "\n",
    "doc.Close()\n",
    "print(\"\\nDone\")\n",
    "print(f\"{nb} images were saved.\")"
   ]
  },
  {
   "cell_type": "code",
   "execution_count": null,
   "metadata": {},
   "outputs": [],
   "source": []
  }
 ],
 "metadata": {
  "kernelspec": {
   "display_name": "Python 3",
   "language": "python",
   "name": "python3"
  },
  "language_info": {
   "codemirror_mode": {
    "name": "ipython",
    "version": 3
   },
   "file_extension": ".py",
   "mimetype": "text/x-python",
   "name": "python",
   "nbconvert_exporter": "python",
   "pygments_lexer": "ipython3",
   "version": "3.11.9"
  }
 },
 "nbformat": 4,
 "nbformat_minor": 2
}
