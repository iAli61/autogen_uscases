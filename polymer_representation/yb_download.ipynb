{
 "cells": [
  {
   "cell_type": "code",
   "execution_count": 20,
   "metadata": {},
   "outputs": [
    {
     "name": "stdout",
     "output_type": "stream",
     "text": [
      "Looking in indexes: https://pypi.org/simple, https://pypi.ngc.nvidia.com\n",
      "Collecting youtube_transcript_api\n",
      "  Downloading youtube_transcript_api-0.6.2-py3-none-any.whl.metadata (15 kB)\n",
      "Requirement already satisfied: requests in /home/alibina/miniconda3/envs/autogen/lib/python3.12/site-packages (from youtube_transcript_api) (2.31.0)\n",
      "Requirement already satisfied: charset-normalizer<4,>=2 in /home/alibina/miniconda3/envs/autogen/lib/python3.12/site-packages (from requests->youtube_transcript_api) (3.3.2)\n",
      "Requirement already satisfied: idna<4,>=2.5 in /home/alibina/miniconda3/envs/autogen/lib/python3.12/site-packages (from requests->youtube_transcript_api) (3.6)\n",
      "Requirement already satisfied: urllib3<3,>=1.21.1 in /home/alibina/miniconda3/envs/autogen/lib/python3.12/site-packages (from requests->youtube_transcript_api) (2.1.0)\n",
      "Requirement already satisfied: certifi>=2017.4.17 in /home/alibina/miniconda3/envs/autogen/lib/python3.12/site-packages (from requests->youtube_transcript_api) (2023.11.17)\n",
      "Downloading youtube_transcript_api-0.6.2-py3-none-any.whl (24 kB)\n",
      "Installing collected packages: youtube_transcript_api\n",
      "Successfully installed youtube_transcript_api-0.6.2\n",
      "Note: you may need to restart the kernel to use updated packages.\n"
     ]
    }
   ],
   "source": [
    "pip install youtube_transcript_api"
   ]
  },
  {
   "cell_type": "code",
   "execution_count": 12,
   "metadata": {},
   "outputs": [],
   "source": [
    "import os\n",
    "\n",
    "os.environ['GOOGLE_API_KEY'] = \"\""
   ]
  },
  {
   "cell_type": "code",
   "execution_count": 24,
   "metadata": {},
   "outputs": [],
   "source": [
    "from youtube_transcript_api import YouTubeTranscriptApi\n",
    "from pytube import YouTube\n",
    "\n",
    "def download_transcript_with_title(video_id):\n",
    "    try:\n",
    "        # Fetch the transcript\n",
    "        transcript = YouTubeTranscriptApi.get_transcript(video_id)\n",
    "        \n",
    "        # Combine all text parts\n",
    "        full_transcript = \" \".join([entry['text'] for entry in transcript])\n",
    "        \n",
    "        # Fetch video title\n",
    "        yt = YouTube(f\"https://www.youtube.com/watch?v={video_id}\")\n",
    "        video_title = yt.title\n",
    "        \n",
    "        # Create a filename-safe version of the title\n",
    "        safe_title = \"\".join([c for c in video_title if c.isalpha() or c.isdigit() or c==' ']).rstrip()\n",
    "        filename = f\"{safe_title}_{video_id}_transcript.txt\"\n",
    "        \n",
    "        # Save to a file\n",
    "        with open(filename, \"w\", encoding=\"utf-8\") as file:\n",
    "            file.write(f\"Title: {video_title}\\n\\n\")\n",
    "            file.write(full_transcript)\n",
    "        \n",
    "        print(f\"Transcript downloaded and saved as {filename}\")\n",
    "    except Exception as e:\n",
    "        print(f\"An error occurred: {str(e)}\")"
   ]
  },
  {
   "cell_type": "code",
   "execution_count": 26,
   "metadata": {},
   "outputs": [
    {
     "name": "stdout",
     "output_type": "stream",
     "text": [
      "Transcript downloaded and saved as Deep Neural Networks for Ab Initio Quantum Chemistry_4VkSsTsMXOU&t_transcript.txt\n"
     ]
    }
   ],
   "source": [
    "\n",
    "\n",
    "video_id = '4VkSsTsMXOU&t'\n",
    "\n",
    "download_transcript_with_title(video_id)\n"
   ]
  },
  {
   "cell_type": "code",
   "execution_count": null,
   "metadata": {},
   "outputs": [],
   "source": [
    "\n",
    "from pyyoutube import Api\n",
    "from youtube_transcript_downloader import get_transcript\n",
    "import os\n",
    "\n",
    "api = Api(api_key=os.environ['GOOGLE_API_KEY'])\n",
    "playlist_id = \"PLfYUBJiXbdtRUvTUYpLdfHHp9a58nWVXP\"\n",
    "items = api.get_playlist_items(playlist_id=playlist_id)\n",
    "\n",
    "next_page_token = None\n",
    "video_ids = []\n",
    "while True:\n",
    "    items = api.get_playlist_items(playlist_id=playlist_id, count=None, limit=50, page_token=next_page_token)\n",
    "    video_ids += [item.snippet.resourceId.videoId for item in items.items]\n",
    "    next_page_token = items.nextPageToken\n",
    "    if not next_page_token: break\n",
    "\n",
    "for video_id in video_ids:\n",
    "    transcript = get_transcript(f'https://youtu.be/{video_id}')\n",
    "    transcript = ' '.join(transcript.values()).replace(u'\\xa0', u' ').replace('\\n', ' ').replace('  ',' ')\n",
    "    with open(video_id + \".txt\", \"w\") as f: f.write(str(transcript))\n",
    "\n"
   ]
  }
 ],
 "metadata": {
  "kernelspec": {
   "display_name": "autogen",
   "language": "python",
   "name": "python3"
  },
  "language_info": {
   "codemirror_mode": {
    "name": "ipython",
    "version": 3
   },
   "file_extension": ".py",
   "mimetype": "text/x-python",
   "name": "python",
   "nbconvert_exporter": "python",
   "pygments_lexer": "ipython3",
   "version": "3.12.0"
  }
 },
 "nbformat": 4,
 "nbformat_minor": 2
}
