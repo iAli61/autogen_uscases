{
 "cells": [
  {
   "cell_type": "code",
   "execution_count": null,
   "metadata": {},
   "outputs": [],
   "source": [
    "from autosearch.functions.text_analysis import chunk_pdf\n",
    "\n",
    "from autosearch.database.paper_database import PaperDatabase\n",
    "from autosearch.analysis.document_analyzer import DocumentAnalyzer\n",
    "from autosearch.research_project import ResearchProject\n",
    "from autosearch.write_blog import WriteBlog\n",
    "\n",
    "import autogen\n",
    "from typing import List, Dict, Any"
   ]
  },
  {
   "cell_type": "code",
   "execution_count": null,
   "metadata": {},
   "outputs": [],
   "source": [
    "import os\n",
    "from dotenv import load_dotenv\n",
    "from azure.core.exceptions import HttpResponseError\n",
    "\n",
    "# Load environment variables\n",
    "load_dotenv()\n",
    "\n",
    "# Retrieve Azure credentials from environment variables\n",
    "config={\n",
    "    'doc_api_key': os.getenv(\"DOCUMENT_INTELLIGENCE_KEY\"),\n",
    "    'doc_endpoint': os.getenv(\"DOCUMENT_INTELLIGENCE_ENDPOINT\")\n",
    "}\n",
    "os.environ[\"TOKENIZERS_PARALLELISM\"] = \"True\""
   ]
  },
  {
   "cell_type": "code",
   "execution_count": null,
   "metadata": {},
   "outputs": [],
   "source": [
    "title = \"Exploring the Intricacies of Polymer Representation: Unraveling Complexity\""
   ]
  },
  {
   "cell_type": "code",
   "execution_count": null,
   "metadata": {},
   "outputs": [],
   "source": [
    "test_project = ResearchProject(\n",
    "    project_id = \"project_test\",\n",
    "    version= \"0.2\",\n",
    "    config=config,\n",
    "    config_file=\"OAI_CONFIG_LIST\",\n",
    "    initiate_db= False,\n",
    "    funcClsList = [\"FactualCheck\", \"GetPDF\", \"GetPDFs\", \"UrlCheck\", \"AcademicRetriever\", \"AcademicSearch\", \"WriteSection\", \"PlotFigure\"],\n",
    "    communiteList = [\"outline_agents\", \"write_section_agents\", \"instructor_agents\"],\n",
    "    local_papers_dir=\"./papers\",\n",
    "    models = [\"gpt-35-turbo\", \"gpt-35-turbo-16k\"]\n",
    ")\n",
    "project_config = test_project.ProjectConfig\n",
    "# print(project_config.logging_session_id)\n",
    "# test_project.run(\n",
    "#     title=title,\n",
    "#     target_audience=\"expert in experimental polymer science and machine learning experts\",\n",
    "# )"
   ]
  },
  {
   "cell_type": "code",
   "execution_count": null,
   "metadata": {},
   "outputs": [],
   "source": [
    "tests = [\n",
    "    ('write_section',\n",
    "     {\n",
    "         \"title\": \"Modern Approaches in Polymer Representation\",\n",
    "         \"brief\": \"Emphasize accessible content on the impact of machine learning on polymer representation with detailed insights from primary sources or direct implementation case studies.\",\n",
    "         \"mind_map\": \"digraph G {\\n   node [shape=box, style=\\\"rounded,filled\\\", color=lightblue2];\\n   // Define nodes\\n   Article [label=\\\"Exploring the Intricacies of Polymer Representation\\\"];\\n   Introduction [label=\\\"Introduction to Polymer Complexity\\\"];\\n   HistoricalOverview [label=\\\"Historical Overview of Polymer Representation Techniques\\\"];\\n   TheoreticalFoundations [label=\\\"Theoretical Foundations of Polymer Modeling\\\"];\\n   ModernApproaches [label=\\\"Modern Approaches in Polymer Representation\\\"];\\n   CaseStudies [label=\\\"Case Studies: Machine Learning in Polymer Representation\\\"];\\n   ChallengesLimitations [label=\\\"Challenges and Limitations in Current Methodologies\\\"];\\n   FutureDirections [label=\\\"Future Directions and Theoretical Implications\\\"];\\n\\n   // Connect nodes\\n   Article -> Introduction;\\n   Article -> HistoricalOverview;\\n   Article -> TheoreticalFoundations;\\n   Article -> ModernApproaches;\\n   Article -> CaseStudies;\\n   Article -> ChallengesLimitations;\\n   Article -> FutureDirections;\\n\\n   // Legends and References\\n   { rank=same; ModernApproaches -> Ref1 [label=\\\"Ref: Representing Polymers as Periodic Graphs [1]\\\"] }\\n   { rank=same; ModernApproaches -> Ref2 [label=\\\"Ref: Potentials and challenges of polymer informatics [2]\\\"] }\\n   { rank=same; CaseStudies -> Ref3 [label=\\\"Ref: Rethinking Interphase Representations [3]\\\"] }\\n}\\n\"\n",
    "     }\n",
    "     ),\n",
    "    # ('factual_check',\n",
    "    #  {\n",
    "    #      \"text\": \"Polymers are substantial cornerstones in the fabric of modern materials science, ubiquitous in applications ranging from packaging and textiles to high-performance engineering plastics and biocompatible materials. The versatility of these macromolecules lies in the infinitude of their structures and compositions, which command their physical and chemical properties. To understand, predict, and manipulate these properties, scientists must adeptly represent polymers at both molecular and macroscopic levels. This section delves into the fundamental concepts of polymer representation, exploring the nuances of chemical structure, topology, and configuration crucial for building a comprehensive understanding of polymer science.\",\n",
    "    #      \"paper_title\": \"Polymer Structure, Properties, and Applications\",\n",
    "    #      \"paper_url\": \"https://example.com/polymer_structure_properties_applications\",\n",
    "    #      \"reason\": \"To verify the general statements about polymer applications, their versatility, and the importance of representation at molecular and macroscopic levels.\"\n",
    "    #  }\n",
    "    #     #  {\n",
    "    #  #     \"text\": \"The collaboration between these fields also birthed differentiable programming frameworks for quantum chemistry, like TorchANI and TensorMol [4]. These latter-day frameworks enable researchers to quickly prototype neural networks that learn quantum mechanical laws directly from data, providing a valuable tool to accelerate discovery. This integration has offered promising results in tasks like molecular dynamics simulations, which are key for understanding chemical reactions and material properties.\",\n",
    "    #  #     \"paper_title\": \"Automated Calculation of Thermal Rate Coefficients using Ring Polymer Molecular Dynamics and Machine-Learning Interatomic Potentials with Active Learning\",\n",
    "    #  #     \"paper_url\": \"http://arxiv.org/pdf/1805.11924v3\",\n",
    "    #     #     \"reason\": \"To confirm the factual information about differentiable programming frameworks and their impact on research in quantum chemistry and neural networks.\"\n",
    "    #     # }\n",
    "    #  ),\n",
    "    # ('get_pdfs', {\n",
    "    #     \"urls\": [\"http://arxiv.org/pdf/2305.13267v1\", \"http://arxiv.org/pdf/2305.06530v1\"],\n",
    "    #     \"reasons\": ['factual_check'] * 2\n",
    "    # }),\n",
    "    # ('get_pdf', {\n",
    "    #     \"url\": \"https://arxiv.org/pdf/2110.13711\",\n",
    "    #     \"reason\": \"factual_check\",\n",
    "    #     \"part\": \"full\"\n",
    "    # }),\n",
    "    # ('url_check',{\n",
    "    #         \"paper_url\": \"https://arxiv.org/pdf/2107.03012.pdf\",\n",
    "    #         \"paper_title\": \"From algebra to analysis: new proofs of theorems by Ritt and Seidenberg\"\n",
    "    # }),\n",
    "    # ('academic_retriever',{\n",
    "    #     \"queries\":[\"Large Language Models\", \"Assessing Language Models\", \"AI safety and reliability\"],\n",
    "    #     \"n_results\":3\n",
    "    # }),\n",
    "    # ('academic_search',{\"query\":\"Human-Centred Learning Analytics and AI in Education: a Systematic Literature Review\"}),\n",
    "]\n",
    "\n",
    "for fucn_name, args in tests:\n",
    "    results = None\n",
    "    for func in test_project.functions:\n",
    "        if func.name == fucn_name:\n",
    "            print(f\"Running {fucn_name} with args: {args}\")\n",
    "            results = func.func(**args)\n",
    "            print(results)\n",
    "\n",
    "    if results is None:\n",
    "        print(f\"Function {fucn_name} not found\")\n",
    "        continue"
   ]
  },
  {
   "cell_type": "code",
   "execution_count": null,
   "metadata": {},
   "outputs": [],
   "source": [
    "from autosearch.data.paper import Paper\n",
    "\n",
    "pdf_path = \"/home/alibina/repo/usecases/autosearch_projects/polymer_representation/papers/schmid-2022-understanding-and-modeling-polymers-the-challenge-of-multiple-scales.pdf\"\n",
    "\n",
    "pdf_file = os.path.basename(pdf_path)\n",
    "paper = Paper(\n",
    "            title=os.path.splitext(pdf_file)[0],\n",
    "            authors=[],\n",
    "            url=pdf_path,\n",
    "            source='local'\n",
    "        )\n",
    "\n",
    "\n",
    "processed_paper = test_project.ProjectConfig.doc_analyzer.process_local_pdf(paper, project_config)"
   ]
  },
  {
   "cell_type": "code",
   "execution_count": null,
   "metadata": {},
   "outputs": [],
   "source": [
    "[func.name for func in test_project.functions]"
   ]
  },
  {
   "cell_type": "code",
   "execution_count": null,
   "metadata": {},
   "outputs": [],
   "source": [
    "from autosearch.functions.plot_figure import plot_figure\n",
    "\n",
    "\n",
    "plot_result = plot_figure(\n",
    "    project_config=project_config,\n",
    "    plot_type=\"line\",\n",
    "    data_description=\"Monthly sales data for the year 2023 for the following data Jan: 1000, Feb: 1200, Mar: 1300, Apr: 1100, May: 1400, Jun: 1500, Jul: 1600, Aug: 1700, Sep: 1800, Oct: 1900, Nov: 2000, Dec: 2100\",\n",
    "    x_label=\"Month\",\n",
    "    y_label=\"Sales ($)\",\n",
    "    title=\"Monthly Sales Trend - 2023\",\n",
    "    additional_instructions=\"Use a blue line with circular markers. Add a legend if possible.\"\n",
    ")\n",
    "\n",
    "print(plot_result)"
   ]
  },
  {
   "cell_type": "code",
   "execution_count": null,
   "metadata": {},
   "outputs": [],
   "source": []
  },
  {
   "cell_type": "code",
   "execution_count": null,
   "metadata": {},
   "outputs": [],
   "source": [
    "\n",
    "import matplotlib.pyplot as plt\n",
    "\n",
    "# This is a conceptual plot, so the values here are for illustrative purposes only\n",
    "scales = ['Atomic', 'Molecular', 'Meso', 'Macroscopic']\n",
    "methods = [1, 2, 3, 4]  # Arbitrary values for illustration\n",
    "\n",
    "plt.figure(figsize=(10, 5))\n",
    "plt.plot(scales, methods, marker='o')  # Plotting the line with points at each scale\n",
    "\n",
    "# Annotations for methods\n",
    "plt.text(scales[0], methods[0], \"Bottom-up\\n(Methods like QM/MM, MD)\", ha='center')\n",
    "plt.text(scales[1], methods[1], \"Bottom-up + Coarse\\nGraining\", ha='center')\n",
    "plt.text(scales[2], methods[2], \"Top-down + Coarse\\nGraining\", ha='center')\n",
    "plt.text(scales[3], methods[3], \"Top-down\\n(Continuum methods)\", ha='center')\n",
    "\n",
    "# Enhancing the Plot\n",
    "plt.title('Multiscale Modeling of Polymers')\n",
    "plt.xlabel('Scales from Atomic to Macroscopic')\n",
    "plt.ylabel('Range of Modeling Methods')\n",
    "plt.grid(True)\n",
    "\n",
    "# Save the plot as a PNG file\n",
    "plt.savefig('paper/multiscale_polymer_modeling.png')\n",
    "\n",
    "plt.show()"
   ]
  },
  {
   "cell_type": "code",
   "execution_count": null,
   "metadata": {},
   "outputs": [],
   "source": []
  }
 ],
 "metadata": {
  "kernelspec": {
   "display_name": "autogen",
   "language": "python",
   "name": "python3"
  },
  "language_info": {
   "codemirror_mode": {
    "name": "ipython",
    "version": 3
   },
   "file_extension": ".py",
   "mimetype": "text/x-python",
   "name": "python",
   "nbconvert_exporter": "python",
   "pygments_lexer": "ipython3",
   "version": "3.12.0"
  }
 },
 "nbformat": 4,
 "nbformat_minor": 2
}
