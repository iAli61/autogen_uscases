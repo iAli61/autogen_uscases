{
 "cells": [
  {
   "cell_type": "code",
   "execution_count": 9,
   "metadata": {},
   "outputs": [],
   "source": [
    "from autosearch.functions.text_analysis import chunk_pdf\n",
    "\n",
    "from autosearch.database.paper_database import PaperDatabase\n",
    "from autosearch.analysis.document_analyzer import DocumentAnalyzer\n",
    "from autosearch.research_project import ResearchProject\n",
    "from autosearch.write_blog import WriteBlog\n",
    "\n",
    "import autogen\n",
    "from typing import List, Dict, Any"
   ]
  },
  {
   "cell_type": "code",
   "execution_count": 10,
   "metadata": {},
   "outputs": [],
   "source": [
    "import os\n",
    "from dotenv import load_dotenv\n",
    "from azure.core.exceptions import HttpResponseError\n",
    "\n",
    "# Load environment variables\n",
    "load_dotenv()\n",
    "\n",
    "# Retrieve Azure credentials from environment variables\n",
    "config={\n",
    "    'doc_api_key': os.getenv(\"DOCUMENT_INTELLIGENCE_KEY\"),\n",
    "    'doc_endpoint': os.getenv(\"DOCUMENT_INTELLIGENCE_ENDPOINT\")\n",
    "}"
   ]
  },
  {
   "cell_type": "code",
   "execution_count": 11,
   "metadata": {},
   "outputs": [],
   "source": [
    "title = \"Exploring the Intricacies of Polymer Representation: Unraveling Complexity\""
   ]
  },
  {
   "cell_type": "code",
   "execution_count": 12,
   "metadata": {},
   "outputs": [
    {
     "name": "stdout",
     "output_type": "stream",
     "text": [
      "Logging session ID: 1c211d94-f1b5-465c-917b-9f24cca30c1d\n",
      "\u001b[92m    Location = ./project_test/0.2/db/uid_text_dict.pkl\u001b[0m\n",
      "Equipping function 'academic_retriever' to agent 'blog_editor-in-chief'\n",
      "Equipping function 'academic_search' to agent 'blog_editor-in-chief'\n",
      "Equipping function 'get_pdf' to agent 'blog_editor-in-chief'\n",
      "Equipping function 'get_pdfs' to agent 'blog_editor-in-chief'\n",
      "Equipping function 'factual_check' to agent 'content_strategist'\n",
      "Equipping function 'academic_retriever' to agent 'content_strategist'\n",
      "Equipping function 'academic_search' to agent 'content_strategist'\n"
     ]
    },
    {
     "name": "stderr",
     "output_type": "stream",
     "text": [
      "/home/alibina/miniconda3/envs/autogen/lib/python3.12/site-packages/autogen/agentchat/conversable_agent.py:2409: UserWarning: Function 'academic_retriever' is being overridden.\n",
      "  warnings.warn(f\"Function '{name}' is being overridden.\", UserWarning)\n",
      "/home/alibina/miniconda3/envs/autogen/lib/python3.12/site-packages/autogen/agentchat/conversable_agent.py:2409: UserWarning: Function 'academic_search' is being overridden.\n",
      "  warnings.warn(f\"Function '{name}' is being overridden.\", UserWarning)\n",
      "/home/alibina/miniconda3/envs/autogen/lib/python3.12/site-packages/autogen/agentchat/conversable_agent.py:2409: UserWarning: Function 'get_pdf' is being overridden.\n",
      "  warnings.warn(f\"Function '{name}' is being overridden.\", UserWarning)\n"
     ]
    },
    {
     "name": "stdout",
     "output_type": "stream",
     "text": [
      "Equipping function 'get_pdf' to agent 'content_strategist'\n",
      "Equipping function 'get_pdfs' to agent 'content_strategist'\n"
     ]
    },
    {
     "name": "stderr",
     "output_type": "stream",
     "text": [
      "/home/alibina/miniconda3/envs/autogen/lib/python3.12/site-packages/autogen/agentchat/conversable_agent.py:2409: UserWarning: Function 'get_pdfs' is being overridden.\n",
      "  warnings.warn(f\"Function '{name}' is being overridden.\", UserWarning)\n"
     ]
    },
    {
     "name": "stdout",
     "output_type": "stream",
     "text": [
      "\u001b[92m    Location = ./project_test/0.2/db/uid_text_dict.pkl\u001b[0m\n",
      "Equipping function 'factual_check' to agent 'content_review_specialist'\n",
      "Equipping function 'academic_retriever' to agent 'content_review_specialist'\n",
      "Equipping function 'academic_search' to agent 'content_review_specialist'\n",
      "Equipping function 'get_pdf' to agent 'content_review_specialist'\n",
      "\u001b[92m    Location = ./project_test/0.2/db/uid_text_dict.pkl\u001b[0m\n",
      "Equipping function 'academic_search' to agent 'topic_expert'\n",
      "Equipping function 'academic_retriever' to agent 'topic_expert'\n",
      "\u001b[92m    Location = ./project_test/0.2/db/uid_text_dict.pkl\u001b[0m\n",
      "Equipping function 'academic_search' to agent 'research_resource_expert'\n",
      "Equipping function 'academic_retriever' to agent 'research_resource_expert'\n",
      "Equipping function 'get_pdf' to agent 'research_resource_expert'\n",
      "Processing local PDFs...\n",
      "Skipping 2102.08134v2.pdf as it is already in the database.\n",
      "Skipping 2205.13757v1.pdf as it is already in the database.\n",
      "Skipping 2312.04013v3.pdf as it is already in the database.\n",
      "Skipping 1805.11924v3.pdf as it is already in the database.\n",
      "Skipping 1-s2.0-S0927796X2030053X-am.pdf as it is already in the database.\n",
      "Skipping 2011.00508v1.pdf as it is already in the database.\n",
      "Skipping 2010.07683v1.pdf as it is already in the database.\n",
      "Skipping 1812.11212v1.pdf as it is already in the database.\n",
      "Skipping 2209.01307v4.pdf as it is already in the database.\n",
      "Created 50 docs with a total of 60021 tokens. Largest doc has 2999 tokens.\n",
      "Error copying local PDF for Understanding and Modeling Polymers: The Challenge of Multiple Scales Friederike Schmid*: './project_test/0.2/output/schmid-2022-understanding-and-modeling-polymers-the-challenge-of-multiple-scales.pdf' and './project_test/0.2/output/schmid-2022-understanding-and-modeling-polymers-the-challenge-of-multiple-scales.pdf' are the same file\n",
      "Error processing ./papers/schmid-2022-understanding-and-modeling-polymers-the-challenge-of-multiple-scales.pdf: './project_test/0.2/output/schmid-2022-understanding-and-modeling-polymers-the-challenge-of-multiple-scales.pdf' and './project_test/0.2/output/schmid-2022-understanding-and-modeling-polymers-the-challenge-of-multiple-scales.pdf' are the same file\n",
      "Error processing schmid-2022-understanding-and-modeling-polymers-the-challenge-of-multiple-scales.pdf: Error processing ./papers/schmid-2022-understanding-and-modeling-polymers-the-challenge-of-multiple-scales.pdf: './project_test/0.2/output/schmid-2022-understanding-and-modeling-polymers-the-challenge-of-multiple-scales.pdf' and './project_test/0.2/output/schmid-2022-understanding-and-modeling-polymers-the-challenge-of-multiple-scales.pdf' are the same file\n",
      "Processed 0 files\n",
      "Skipped 9 already processed files\n",
      "Encountered 1 errors\n",
      "\n"
     ]
    }
   ],
   "source": [
    "test_project = ResearchProject(\n",
    "    project_id = \"project_test\",\n",
    "    version= \"0.2\",\n",
    "    config=config,\n",
    "    config_file=\"OAI_CONFIG_LIST-sweden-505\",\n",
    "    initiate_db= False,\n",
    "    funcClsList = [\"FactualCheck\", \"GetPDF\", \"GetPDFs\", \"UrlCheck\", \"AcademicRetriever\", \"AcademicSearch\"],\n",
    "    communiteList = [\"outline_agents\", \"write_section_agents\", \"instructor_agents\"],\n",
    "    local_papers_dir=\"./papers\"\n",
    ")\n",
    "project_config = test_project.ProjectConfig\n",
    "# print(project_config.logging_session_id)\n",
    "# test_project.run(\n",
    "#     title=title,\n",
    "#     target_audience=\"expert in experimental polymer science and machine learning experts\",\n",
    "# )"
   ]
  },
  {
   "cell_type": "code",
   "execution_count": 13,
   "metadata": {},
   "outputs": [],
   "source": [
    "from autosearch.communities.outline_agents import agentsconfig\n",
    "from autosearch.agents.agents_creator import AgentsCreator\n",
    "\n",
    "# agents = AgentsCreator(test_project.ProjectConfig, agents_config=agentsconfig).initialize_agents()\n",
    "# agents"
   ]
  },
  {
   "cell_type": "code",
   "execution_count": 14,
   "metadata": {},
   "outputs": [
    {
     "name": "stdout",
     "output_type": "stream",
     "text": [
      "Running factual_check with args: {'text': 'Polymers are substantial cornerstones in the fabric of modern materials science, ubiquitous in applications ranging from packaging and textiles to high-performance engineering plastics and biocompatible materials. The versatility of these macromolecules lies in the infinitude of their structures and compositions, which command their physical and chemical properties. To understand, predict, and manipulate these properties, scientists must adeptly represent polymers at both molecular and macroscopic levels. This section delves into the fundamental concepts of polymer representation, exploring the nuances of chemical structure, topology, and configuration crucial for building a comprehensive understanding of polymer science.', 'paper_title': 'Polymer Structure, Properties, and Applications', 'paper_url': 'https://example.com/polymer_structure_properties_applications', 'reason': 'To verify the general statements about polymer applications, their versatility, and the importance of representation at molecular and macroscopic levels.'}\n",
      "The provided paper URL, https://example.com/polymer_structure_properties_applications, is not from a supported academic source. Please provide a valid URL from arXiv or Google Scholar.\n"
     ]
    }
   ],
   "source": [
    "tests = [\n",
    "    ('factual_check',\n",
    "     {\n",
    "         \"text\": \"Polymers are substantial cornerstones in the fabric of modern materials science, ubiquitous in applications ranging from packaging and textiles to high-performance engineering plastics and biocompatible materials. The versatility of these macromolecules lies in the infinitude of their structures and compositions, which command their physical and chemical properties. To understand, predict, and manipulate these properties, scientists must adeptly represent polymers at both molecular and macroscopic levels. This section delves into the fundamental concepts of polymer representation, exploring the nuances of chemical structure, topology, and configuration crucial for building a comprehensive understanding of polymer science.\",\n",
    "         \"paper_title\": \"Polymer Structure, Properties, and Applications\",\n",
    "         \"paper_url\": \"https://example.com/polymer_structure_properties_applications\",\n",
    "         \"reason\": \"To verify the general statements about polymer applications, their versatility, and the importance of representation at molecular and macroscopic levels.\"\n",
    "     }\n",
    "        #  {\n",
    "     #     \"text\": \"The collaboration between these fields also birthed differentiable programming frameworks for quantum chemistry, like TorchANI and TensorMol [4]. These latter-day frameworks enable researchers to quickly prototype neural networks that learn quantum mechanical laws directly from data, providing a valuable tool to accelerate discovery. This integration has offered promising results in tasks like molecular dynamics simulations, which are key for understanding chemical reactions and material properties.\",\n",
    "     #     \"paper_title\": \"Automated Calculation of Thermal Rate Coefficients using Ring Polymer Molecular Dynamics and Machine-Learning Interatomic Potentials with Active Learning\",\n",
    "     #     \"paper_url\": \"http://arxiv.org/pdf/1805.11924v3\",\n",
    "        #     \"reason\": \"To confirm the factual information about differentiable programming frameworks and their impact on research in quantum chemistry and neural networks.\"\n",
    "        # }\n",
    "     ),\n",
    "    # ('get_pdfs', {\n",
    "    #     \"urls\": [\"http://arxiv.org/pdf/2305.13267v1\", \"http://arxiv.org/pdf/2305.06530v1\"],\n",
    "    #     \"reasons\": ['factual_check'] * 2\n",
    "    # }),\n",
    "    # ('get_pdf', {\n",
    "    #     \"url\": \"https://arxiv.org/pdf/2110.13711\",\n",
    "    #     \"reason\": \"factual_check\",\n",
    "    #     \"part\": \"full\"\n",
    "    # }),\n",
    "    # ('url_check',{\n",
    "    #         \"paper_url\": \"https://arxiv.org/pdf/2107.03012.pdf\",\n",
    "    #         \"paper_title\": \"From algebra to analysis: new proofs of theorems by Ritt and Seidenberg\"\n",
    "    # }),\n",
    "    # ('academic_retriever',{\n",
    "    #     \"queries\":[\"Large Language Models\", \"Assessing Language Models\", \"AI safety and reliability\"],\n",
    "    #     \"n_results\":3\n",
    "    # }),\n",
    "    # ('academic_search',{\"query\":\"Human-Centred Learning Analytics and AI in Education: a Systematic Literature Review\"}),\n",
    "]\n",
    "\n",
    "for fucn_name, args in tests:\n",
    "    results = None\n",
    "    for func in test_project.functions:\n",
    "        if func.name == fucn_name:\n",
    "            print(f\"Running {fucn_name} with args: {args}\")\n",
    "            results = func.func(**args)\n",
    "            print(results)\n",
    "\n",
    "    if results is None:\n",
    "        print(f\"Function {fucn_name} not found\")\n",
    "        continue"
   ]
  },
  {
   "cell_type": "code",
   "execution_count": 7,
   "metadata": {},
   "outputs": [
    {
     "data": {
      "text/plain": [
       "{'name': 'academic_search',\n",
       " 'description': 'Search for papers across multiple academic sources based on the given query.',\n",
       " 'func': <function autosearch.functions.base_function.BaseFunction._create_wrapper.<locals>.wrapper(query: Annotated[str, 'The query to search for in academic sources.']) -> str>}"
      ]
     },
     "execution_count": 7,
     "metadata": {},
     "output_type": "execute_result"
    }
   ],
   "source": [
    "func.get_function_details()"
   ]
  },
  {
   "cell_type": "code",
   "execution_count": 8,
   "metadata": {},
   "outputs": [
    {
     "data": {
      "text/plain": [
       "['factual_check',\n",
       " 'get_pdf',\n",
       " 'get_pdfs',\n",
       " 'url_check',\n",
       " 'academic_retriever',\n",
       " 'academic_search']"
      ]
     },
     "execution_count": 8,
     "metadata": {},
     "output_type": "execute_result"
    }
   ],
   "source": [
    "[func.name for func in test_project.functions]"
   ]
  },
  {
   "cell_type": "code",
   "execution_count": null,
   "metadata": {},
   "outputs": [],
   "source": []
  },
  {
   "cell_type": "code",
   "execution_count": null,
   "metadata": {},
   "outputs": [],
   "source": []
  },
  {
   "cell_type": "code",
   "execution_count": null,
   "metadata": {},
   "outputs": [],
   "source": []
  }
 ],
 "metadata": {
  "kernelspec": {
   "display_name": "autogen",
   "language": "python",
   "name": "python3"
  },
  "language_info": {
   "codemirror_mode": {
    "name": "ipython",
    "version": 3
   },
   "file_extension": ".py",
   "mimetype": "text/x-python",
   "name": "python",
   "nbconvert_exporter": "python",
   "pygments_lexer": "ipython3",
   "version": "3.12.0"
  }
 },
 "nbformat": 4,
 "nbformat_minor": 2
}
