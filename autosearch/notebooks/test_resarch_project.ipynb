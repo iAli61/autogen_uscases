{
 "cells": [
  {
   "cell_type": "code",
   "execution_count": 1,
   "metadata": {},
   "outputs": [],
   "source": [
    "from autosearch.functions.text_analysis import chunk_pdf\n",
    "\n",
    "from autosearch.database.paper_database import PaperDatabase\n",
    "from autosearch.analysis.document_analyzer import DocumentAnalyzer\n",
    "from autosearch.research_project import ResearchProject\n",
    "from autosearch.write_blog import WriteBlog\n",
    "\n",
    "import autogen\n",
    "from typing import List, Dict, Any"
   ]
  },
  {
   "cell_type": "code",
   "execution_count": 2,
   "metadata": {},
   "outputs": [],
   "source": [
    "import os\n",
    "from dotenv import load_dotenv\n",
    "from azure.core.exceptions import HttpResponseError\n",
    "\n",
    "# Load environment variables\n",
    "load_dotenv()\n",
    "\n",
    "# Retrieve Azure credentials from environment variables\n",
    "config={\n",
    "    'doc_api_key': os.getenv(\"DOCUMENT_INTELLIGENCE_KEY\"),\n",
    "    'doc_endpoint': os.getenv(\"DOCUMENT_INTELLIGENCE_ENDPOINT\")\n",
    "}"
   ]
  },
  {
   "cell_type": "code",
   "execution_count": 3,
   "metadata": {},
   "outputs": [],
   "source": [
    "title = \"Exploring the Intricacies of Polymer Representation: Unraveling Complexity\""
   ]
  },
  {
   "cell_type": "code",
   "execution_count": null,
   "metadata": {},
   "outputs": [],
   "source": [
    "test_project = ResearchProject(\n",
    "    project_id = \"project_test\",\n",
    "    version= \"0.2\",\n",
    "    config=config,\n",
    "    config_file=\"OAI_CONFIG_LIST-sweden-505\",\n",
    "    initiate_db= False,\n",
    "    funcClsList = [\"FactualCheck\", \"GetPDF\", \"GetPDFs\", \"UrlCheck\", \"AcademicRetriever\", \"AcademicSearch\"],\n",
    "    communiteList = [\"outline_agents\", \"write_section_agents\", \"instructor_agents\"],\n",
    "    local_papers_dir=\"./papers\"\n",
    ")\n",
    "project_config = test_project.ProjectConfig\n",
    "# print(project_config.logging_session_id)\n",
    "# test_project.run(\n",
    "#     title=title,\n",
    "#     target_audience=\"expert in experimental polymer science and machine learning experts\",\n",
    "# )"
   ]
  },
  {
   "cell_type": "code",
   "execution_count": 4,
   "metadata": {},
   "outputs": [
    {
     "name": "stdout",
     "output_type": "stream",
     "text": [
      "Logging session ID: 01c12f67-6a2a-42ed-aae3-980a76755e92\n",
      "\u001b[92m    Location = ./polymer_representation/0.2/db/uid_text_dict.pkl\u001b[0m\n",
      "Equipping function 'academic_retriever' to agent 'blog_editor-in-chief'\n",
      "Equipping function 'academic_search' to agent 'blog_editor-in-chief'\n",
      "Equipping function 'get_pdf' to agent 'blog_editor-in-chief'\n",
      "Equipping function 'get_pdfs' to agent 'blog_editor-in-chief'\n",
      "Equipping function 'factual_check' to agent 'content_strategist'\n",
      "\u001b[92m    Location = ./polymer_representation/0.2/db/uid_text_dict.pkl\u001b[0m\n",
      "Equipping function 'factual_check' to agent 'content_review_specialist'\n",
      "Equipping function 'academic_retriever' to agent 'content_review_specialist'\n",
      "Equipping function 'academic_search' to agent 'content_review_specialist'\n",
      "Equipping function 'get_pdf' to agent 'content_review_specialist'\n",
      "\u001b[92m    Location = ./polymer_representation/0.2/db/uid_text_dict.pkl\u001b[0m\n",
      "Equipping function 'academic_search' to agent 'topic_expert'\n",
      "Equipping function 'academic_retriever' to agent 'topic_expert'\n",
      "\u001b[92m    Location = ./polymer_representation/0.2/db/uid_text_dict.pkl\u001b[0m\n",
      "Equipping function 'academic_search' to agent 'research_resource_expert'\n"
     ]
    },
    {
     "name": "stderr",
     "output_type": "stream",
     "text": [
      "/home/alibina/miniconda3/envs/autogen/lib/python3.12/site-packages/autogen/agentchat/conversable_agent.py:2409: UserWarning: Function 'academic_search' is being overridden.\n",
      "  warnings.warn(f\"Function '{name}' is being overridden.\", UserWarning)\n",
      "/home/alibina/miniconda3/envs/autogen/lib/python3.12/site-packages/autogen/agentchat/conversable_agent.py:2409: UserWarning: Function 'academic_retriever' is being overridden.\n",
      "  warnings.warn(f\"Function '{name}' is being overridden.\", UserWarning)\n"
     ]
    },
    {
     "name": "stdout",
     "output_type": "stream",
     "text": [
      "Equipping function 'academic_retriever' to agent 'research_resource_expert'\n",
      "Equipping function 'get_pdf' to agent 'research_resource_expert'\n",
      "Processing local PDFs...\n",
      "Processing 2205.13757v1.pdf...\n",
      "Skipping 2205.13757v1.pdf as it is already in the database.\n",
      "Processing 2102.08134v2.pdf...\n",
      "Skipping 2102.08134v2.pdf as it is already in the database.\n",
      "Processing 2312.04013v3.pdf...\n",
      "Skipping 2312.04013v3.pdf as it is already in the database.\n",
      "Processing 1-s2.0-S0927796X2030053X-am.pdf...\n",
      "Created 54 docs with a total of 31619 tokens. Largest doc has 2947 tokens.\n",
      "Error searching google_scholar: Cannot Fetch from Google Scholar.\n",
      "Error copying local PDF for Version of Record: https://www.sciencedirect.com/science/article/pii/S0927796X2030053X Manuscript_c681a8a49ed2ede90aaca95b72c753e1: './polymer_representation/0.2/output/1-s2.0-S0927796X2030053X-am.pdf' and './polymer_representation/0.2/output/1-s2.0-S0927796X2030053X-am.pdf' are the same file\n",
      "Error processing ./papers/1-s2.0-S0927796X2030053X-am.pdf: './polymer_representation/0.2/output/1-s2.0-S0927796X2030053X-am.pdf' and './polymer_representation/0.2/output/1-s2.0-S0927796X2030053X-am.pdf' are the same file\n",
      "Error processing 1-s2.0-S0927796X2030053X-am.pdf: Error processing ./papers/1-s2.0-S0927796X2030053X-am.pdf: './polymer_representation/0.2/output/1-s2.0-S0927796X2030053X-am.pdf' and './polymer_representation/0.2/output/1-s2.0-S0927796X2030053X-am.pdf' are the same file\n",
      "Processing 1805.11924v3.pdf...\n",
      "Skipping 1805.11924v3.pdf as it is already in the database.\n",
      "Processing 1812.11212v1.pdf...\n",
      "Skipping 1812.11212v1.pdf as it is already in the database.\n",
      "Processing 2011.00508v1.pdf...\n",
      "Skipping 2011.00508v1.pdf as it is already in the database.\n",
      "Processing 2010.07683v1.pdf...\n",
      "Skipping 2010.07683v1.pdf as it is already in the database.\n",
      "Processing 2201.10498v1.pdf...\n",
      "Created 0 docs with a total of 16 tokens. Largest doc has 0 tokens.\n",
      "Error searching google_scholar: Cannot Fetch from Google Scholar.\n",
      "Error copying local PDF for 2201.10498v1: './polymer_representation/0.2/output/2201.10498v1.pdf' and './polymer_representation/0.2/output/2201.10498v1.pdf' are the same file\n",
      "Error processing ./papers/2201.10498v1.pdf: './polymer_representation/0.2/output/2201.10498v1.pdf' and './polymer_representation/0.2/output/2201.10498v1.pdf' are the same file\n",
      "Error processing 2201.10498v1.pdf: Error processing ./papers/2201.10498v1.pdf: './polymer_representation/0.2/output/2201.10498v1.pdf' and './polymer_representation/0.2/output/2201.10498v1.pdf' are the same file\n",
      "Processing 2209.01307v4.pdf...\n",
      "Skipping 2209.01307v4.pdf as it is already in the database.\n",
      "Processed 0 files: \n",
      "Skipped 8 already processed files: 2205.13757v1.pdf, 2102.08134v2.pdf, 2312.04013v3.pdf, 1805.11924v3.pdf, 1812.11212v1.pdf, 2011.00508v1.pdf, 2010.07683v1.pdf, 2209.01307v4.pdf\n",
      "Encountered 2 errors:\n",
      "Error processing 1-s2.0-S0927796X2030053X-am.pdf: Error processing ./papers/1-s2.0-S0927796X2030053X-am.pdf: './polymer_representation/0.2/output/1-s2.0-S0927796X2030053X-am.pdf' and './polymer_representation/0.2/output/1-s2.0-S0927796X2030053X-am.pdf' are the same file\n",
      "Error processing 2201.10498v1.pdf: Error processing ./papers/2201.10498v1.pdf: './polymer_representation/0.2/output/2201.10498v1.pdf' and './polymer_representation/0.2/output/2201.10498v1.pdf' are the same file\n",
      "01c12f67-6a2a-42ed-aae3-980a76755e92\n",
      "\u001b[33mtopic_expert\u001b[0m (to chat_manager):\n",
      "\n",
      "\n",
      "        We need to create comprehensive instructions for the Editor-in-Chief to write an article titled:\n",
      "        \"Exploring the Intricacies of Polymer Representation: Unraveling Complexity\"\n",
      "\n",
      "        The target audience for this article is: expert in experimental polymer science and machine learning experts\n",
      "\n",
      "        Each agent should contribute their expertise to craft a well-rounded instruction,\n",
      "        keeping in mind the specific needs and background of the target audience.\n",
      "        Topic Expert, please start by analyzing the title and providing key insights,\n",
      "        considering how they should be presented to this audience.\n",
      "        \n",
      "\n",
      "--------------------------------------------------------------------------------\n",
      "\u001b[32m\n",
      "Next speaker: structure_specialist\n",
      "\u001b[0m\n",
      "\u001b[33mstructure_specialist\u001b[0m (to chat_manager):\n",
      "\n",
      "Analyzing the title \"Exploring the Intricacies of Polymer Representation: Unraveling Complexity,\" the article is expected to delve deeply into the specialized subject of representing polymers in various models or simulations, as well as the complexities involved in this process, particularly with the integration or application of machine learning techniques.\n",
      "\n",
      "Given that the target audience comprises experts in experimental polymer science and machine learning, the article should:\n",
      "\n",
      "1. Cater to a high level of technical detail.\n",
      "2. Introduce advanced methodologies in polymer representation and machine learning.\n",
      "3. Discuss current challenges and research frontiers in the field.\n",
      "4. Explore interdisciplinary approaches that might not be commonly known to experts who are specialized in only one of the fields.\n",
      "5. Present case studies or examples of successful representations.\n",
      "6. Discuss implications for future research and applications in both domains.\n",
      "\n",
      "The structure should be such that it fosters a common understanding first, then moves into the intricate details relevant to both sets of experts. The high-level expertise of the audience allows for less time spent on basic concepts and more on recent developments, methodologies, and their implications for the field.\n",
      "\n",
      "Section titles that progress logically through the topic might include:\n",
      "\n",
      "1. Introduction to Polymer Complexity and Representation Challenges – 500 words\n",
      "2. Advances in Polymer Modeling Techniques – 750 words\n",
      "3. Machine Learning in Polymer Representation: Principles and Practices – 750 words\n",
      "4. Technical Methodologies in Detail: Polymer Feature Extraction and Data Representation – 1000 words\n",
      "5. Case Studies: Machine Learning Applications in Polymer Science – 1000 words\n",
      "6. Unraveling Complexity: Computational Strategies for Advanced Polymer Analysis – 1000 words\n",
      "7. Future Directions: Bridging Polymer Science and Machine Learning – 750 words\n",
      "8. Conclusion and Implications for Research and Industry – 500 words\n",
      "\n",
      "Overall Word Count: 6250-6750 words\n",
      "\n",
      "Visual aids are particularly important to illustrate complex concepts and methodologies, and for this audience, could include:\n",
      "\n",
      "1. Flowcharts or process diagrams illustrating the workflow of machine learning algorithms applied to polymer representation.\n",
      "2. Comparative charts showing the performance of different polymer representation techniques.\n",
      "3. High-resolution images or visualizations of polymer structures as represented in different modeling environments or through various machine learning approaches.\n",
      "\n",
      "Adjusting to the target audience, this structure assumes familiarity with polymer science and machine learning, allowing for more advanced discussion without the need to introduce foundational concepts. The focus is instead placed on highlighting cutting-edge methodologies, interdisciplinary approaches, and the exploration of future research potentials.\n",
      "\n",
      "--------------------------------------------------------------------------------\n",
      "\u001b[32m\n",
      "Next speaker: audience_adaptation_expert\n",
      "\u001b[0m\n",
      "\u001b[33maudience_adaptation_expert\u001b[0m (to chat_manager):\n",
      "\n",
      "As an Audience Adaptation Agent, here are recommendations to ensure the article \"Exploring the Intricacies of Polymer Representation: Unraveling Complexity\" appeals to the expert backgrounds in experimental polymer science and machine learning:\n",
      "\n",
      "1. **Complex Concept Explanation Strategies:**\n",
      "\n",
      "   - **Use of Technical Jargon:** Given the expertise of the audience, the use of domain-specific technical language is appropriate. For example, terms like \"Markov chain Monte Carlo,\" \"free energy calculations,\" or \"supervised/unsupervised learning\" can be used without oversimplification.\n",
      "   \n",
      "   - **Algorithmic Detailing:** Presenting intricate details of algorithms used in machine learning for polymer representation will engage readers. For example, discussing specific neural network architectures or feature extraction methods used in the analysis of polymer chains.\n",
      "   \n",
      "   - **Data-Centric Illustrations:** Integrate complex data representations such as molecular dynamics simulations, 3D polymer models, or heatmaps derived from machine learning analyses that articulate intricate patterns or correlations.\n",
      "\n",
      "2. **Real-World Examples/Applications:**\n",
      "\n",
      "   - Illustrate how machine learning has solved a complex problem in polymer design, leading to the development of new materials with desirable properties such as increased strength, flexibility, or biodegradability.\n",
      "   \n",
      "   - Discuss case studies where advanced polymer representations have enhanced the understanding of polymer behaviors leading to innovations in the industry, such as more efficient drug delivery systems or improved plastic recycling processes.\n",
      "   \n",
      "   - Present scenarios where ML-driven polymer simulations have sped up the discovery process, potentially leading to new insights into areas like battery technology or lightweight materials for aerospace applications.\n",
      "\n",
      "3. **Analogies to Aid Understanding:**\n",
      "\n",
      "   - **Polymer as Language:** Describe polymers as complex languages where monomers act as letters, the polymer chain as sentences, and the material properties as the story told, emphasizing how machine learning can 'translate' these stories into actionable data.\n",
      "   \n",
      "   - **Machine Learning as a Masterchef:** Compare machine learning to a masterchef that can predict the best combination of ingredients (monomers) and cooking techniques (polymerization processes) to create a gourmet dish with desired flavors (material properties).\n",
      "   \n",
      "   - **Polymer Representation as Puzzle Solving:** Liken advanced polymer representation to a high-dimensional puzzle where machine learning strategies act as puzzle-solving techniques that can efficiently find the correct placement of pieces (predicting molecular behavior).\n",
      "\n",
      "4. **Balancing Technical Depth with Accessibility:**\n",
      "\n",
      "   - **Contextual Explanation:** Where technical terms and methodologies are used, provide contextual information and relevance to connect concepts across both domains of expertise.\n",
      "   \n",
      "   - **Visual Abstracts:** Complex information can be accompanied by visual abstracts summarizing research findings or illustrating methodologies, allowing quick comprehension despite the depth of content.\n",
      "   \n",
      "   - **Active Interaction Elements:** Consider including enhanced elements such as interactive graphs or models which experts in the field can manipulate to visualize the data or outcomes of machine learning techniques applied to polymer science.\n",
      "\n",
      "5. **Tone and Style Guidance:**\n",
      "\n",
      "   - Maintain a formal and academic tone throughout the article, as befits an expert audience.\n",
      "   \n",
      "   - Use precise and clear language with minimal use of metaphors, focusing on direct explanations of complex concepts and their applications.\n",
      "   \n",
      "   - Engage the readers intellectually through thought-provoking questions or challenges in the field, prompting dialogue or further inquiry into the subject matter.\n",
      "\n",
      "By adhering to these recommendations, the article will cater to the high level of expertise present in the target audience, ensuring that it not only informs but also stimulates further discussion and exploration within this inter-disciplinary field.\n",
      "\n",
      "--------------------------------------------------------------------------------\n",
      "\u001b[32m\n",
      "Next speaker: research_resource_expert\n",
      "\u001b[0m\n"
     ]
    },
    {
     "name": "stderr",
     "output_type": "stream",
     "text": [
      "Add of existing embedding ID: 9\n",
      "Add of existing embedding ID: 16\n",
      "Add of existing embedding ID: 22\n",
      "Add of existing embedding ID: 25\n",
      "Add of existing embedding ID: 25\n",
      "Add of existing embedding ID: 27\n",
      "Add of existing embedding ID: 27\n",
      "Add of existing embedding ID: 28\n",
      "Add of existing embedding ID: 33\n",
      "Add of existing embedding ID: 38\n",
      "Add of existing embedding ID: 46\n",
      "Add of existing embedding ID: 53\n",
      "Add of existing embedding ID: 60\n",
      "Add of existing embedding ID: 75\n",
      "Add of existing embedding ID: 102\n",
      "Add of existing embedding ID: 107\n",
      "Add of existing embedding ID: 134\n",
      "Add of existing embedding ID: 138\n",
      "Add of existing embedding ID: 143\n",
      "Add of existing embedding ID: 144\n",
      "Add of existing embedding ID: 150\n",
      "Add of existing embedding ID: 160\n",
      "Add of existing embedding ID: 168\n",
      "huggingface/tokenizers: The current process just got forked, after parallelism has already been used. Disabling parallelism to avoid deadlocks...\n",
      "To disable this warning, you can either:\n",
      "\t- Avoid using `tokenizers` before the fork if possible\n",
      "\t- Explicitly set the environment variable TOKENIZERS_PARALLELISM=(true | false)\n"
     ]
    },
    {
     "name": "stdout",
     "output_type": "stream",
     "text": [
      "\u001b[33mresearch_resource_expert\u001b[0m (to chat_manager):\n",
      "\n",
      "**Key Insights for \"Exploring the Intricacies of Polymer Representation: Unraveling Complexity\"**:\n",
      "\n",
      "Considering the technical background of the target audience—experts in experimental polymer science and machine learning experts—the article should provide a comprehensive overview and deep analysis of the most cutting-edge research and methodologies in the field of polymer representation.\n",
      "\n",
      "1. Depth in Analytics: The article must detail the intricate processes and the analytical techniques used to represent polymer structures, alongside illustrating the complexity and diversity inherent in polymeric substances.\n",
      "\n",
      "2. Interdisciplinary Approach: Since the audience covers two main expert areas, the content should bridge the gap between experimental polymer science and machine learning. It should emphasize how machine learning can enhance the representation and understanding of complex polymer systems through advanced computation and predictive modeling.\n",
      "\n",
      "3. Advanced Representational Techniques: Address the more sophisticated techniques of representing polymers that are relevant to both polymer scientists and machine learning experts, such as molecular dynamics simulations, hierarchical modeling, and neural network applications in polymer structure prediction.\n",
      "\n",
      "4. Significance of Accurate Representation: Discuss why a precise polymer representation is crucial—for instance, in developing new materials with specific properties—and the role machine learning plays in achieving this level of precision.\n",
      "\n",
      "5. Challenges and Solutions: Present the major challenges faced in representing complex polymers, such as handling vast datasets, the need for high computational power, and the difficulty in translating experimental data into machine learning models. Solutions provided by recent research and technological innovation would be highly relevant.\n",
      "\n",
      "6. Future Perspectives: Speculate on the upcoming trends and potential breakthroughs in polymer representation, discussing how ongoing research could lead to new methods and tools, and how machine learning might play a pivotal role in future advancements.\n",
      "\n",
      "7. Empirical Evidence: Back up claims and theories with empirical examples, recent studies, and real-world applications where complex polymer representations have notably improved material performance or contributed to scientific understanding.\n",
      "\n",
      "The content should balance density of information with clarity. Diagrams, charts, and other visual representations can help convey complex ideas and should be incorporated where appropriate. Prospects for interdisciplinary collaboration could underpin the article's theme—highlighting how collaboration between fields can lead to significant advances in polymer science.\n",
      "\n",
      "By aligning content with these insights, the Editor-in-Chief can craft an article that not only resonates with the expertise of the audience but also pushes the boundaries of their understanding, inspiring new ideas and applications in the field of polymer representation.\n",
      "\n",
      "--------------------------------------------------------------------------------\n",
      "\u001b[32m\n",
      "Next speaker: instruction_synthesizer\n",
      "\u001b[0m\n",
      "\u001b[33minstruction_synthesizer\u001b[0m (to chat_manager):\n",
      "\n",
      "FINAL INSTRUCTION:\n",
      "\n",
      "You are to write an article titled \"Exploring the Intricacies of Polymer Representation: Unraveling Complexity,\" tailored for an audience of experts in experimental polymer science and machine learning.\n",
      "\n",
      "1. Begin the article by highlighting the significance of accurate polymer representation in advancing material science and the key role that machine learning plays in this field (500 words).\n",
      "\n",
      "2. Proceed to discuss advanced polymer modeling techniques, making sure to provide a thorough analysis of current research, methodologies, and technologies, with an emphasis on interdisciplinary approaches (750 words).\n",
      "\n",
      "3. Detail the integration of machine learning principles and practices within polymer representation, focusing on algorithmic detailing and data-centric illustrations that the expert audience can relate to (750 words).\n",
      "\n",
      "4. Dive into technical methodologies, elaborating on polymer feature extraction, data representation, and examine how these approaches have evolved due to the influence of machine learning (1000 words).\n",
      "\n",
      "5. Present in-depth case studies and real-world applications, providing recent empirical examples where intricate polymer representations have enhanced performance or scientific understanding (1000 words).\n",
      "\n",
      "6. Offer insights into unravelling complexity in polymer representation, discussing computational strategies and their implications for advanced polymer analysis (1000 words).\n",
      "\n",
      "7. Speculate on the future direction of research and interdisciplinary collaboration in the field, encouraging the expert audience to consider potential breakthroughs and the need for new methods and tools (750 words).\n",
      "\n",
      "8. Conclude the article by summarizing the complexities involved in the field, the impact of the discussed methodologies, and their broader implications for research and industry (500 words).\n",
      "\n",
      "Target a comprehensive word count between 6250-6750 words. The article should balance a complex yet accessible explanation of the subject matter. Utilize technical language appropriate for the audience, with precise terms and algorithmic details.\n",
      "\n",
      "Include visual aids such as flowcharts, comparative charts, and high-resolution images that illustrate complex concepts. Encourage a high level of reader interaction with interactive graphs or models to aid in the visualization of machine learning algorithms. Ensure these are detailed enough to contribute to the experts' understanding.\n",
      "\n",
      "Throughout the article, maintain a formal and academic tone, while actively engaging the reader through thought-provoking questions and challenges related to the field. Avoid oversimplification and instead focus on direct explanations of advanced concepts and their direct applications. Cater to the audience's familiarity with both polymer science and machine learning, highlighting the convergence of these fields and encouraging dialogue within and across these disciplines.\n",
      "\n",
      "END INSTRUCTION.\n",
      "\n",
      "--------------------------------------------------------------------------------\n"
     ]
    },
    {
     "name": "stderr",
     "output_type": "stream",
     "text": [
      "The return type of the function 'write_section' is not annotated. Although annotating it is optional, the function should return either a string, a subclass of 'pydantic.BaseModel'.\n"
     ]
    },
    {
     "name": "stdout",
     "output_type": "stream",
     "text": [
      "\u001b[33meditor_user\u001b[0m (to chat_manager):\n",
      "\n",
      "You are to write an article titled \"Exploring the Intricacies of Polymer Representation: Unraveling Complexity,\" tailored for an audience of experts in experimental polymer science and machine learning.\n",
      "\n",
      "1. Begin the article by highlighting the significance of accurate polymer representation in advancing material science and the key role that machine learning plays in this field (500 words).\n",
      "\n",
      "2. Proceed to discuss advanced polymer modeling techniques, making sure to provide a thorough analysis of current research, methodologies, and technologies, with an emphasis on interdisciplinary approaches (750 words).\n",
      "\n",
      "3. Detail the integration of machine learning principles and practices within polymer representation, focusing on algorithmic detailing and data-centric illustrations that the expert audience can relate to (750 words).\n",
      "\n",
      "4. Dive into technical methodologies, elaborating on polymer feature extraction, data representation, and examine how these approaches have evolved due to the influence of machine learning (1000 words).\n",
      "\n",
      "5. Present in-depth case studies and real-world applications, providing recent empirical examples where intricate polymer representations have enhanced performance or scientific understanding (1000 words).\n",
      "\n",
      "6. Offer insights into unravelling complexity in polymer representation, discussing computational strategies and their implications for advanced polymer analysis (1000 words).\n",
      "\n",
      "7. Speculate on the future direction of research and interdisciplinary collaboration in the field, encouraging the expert audience to consider potential breakthroughs and the need for new methods and tools (750 words).\n",
      "\n",
      "8. Conclude the article by summarizing the complexities involved in the field, the impact of the discussed methodologies, and their broader implications for research and industry (500 words).\n",
      "\n",
      "Target a comprehensive word count between 6250-6750 words. The article should balance a complex yet accessible explanation of the subject matter. Utilize technical language appropriate for the audience, with precise terms and algorithmic details.\n",
      "\n",
      "Include visual aids such as flowcharts, comparative charts, and high-resolution images that illustrate complex concepts. Encourage a high level of reader interaction with interactive graphs or models to aid in the visualization of machine learning algorithms. Ensure these are detailed enough to contribute to the experts' understanding.\n",
      "\n",
      "Throughout the article, maintain a formal and academic tone, while actively engaging the reader through thought-provoking questions and challenges related to the field. Avoid oversimplification and instead focus on direct explanations of advanced concepts and their direct applications. Cater to the audience's familiarity with both polymer science and machine learning, highlighting the convergence of these fields and encouraging dialogue within and across these disciplines.\n",
      "\n",
      "--------------------------------------------------------------------------------\n",
      "\u001b[32m\n",
      "Next speaker: blog_editor-in-chief\n",
      "\u001b[0m\n",
      "\u001b[33mblog_editor-in-chief\u001b[0m (to chat_manager):\n",
      "\n",
      "\u001b[32m***** Suggested tool call (call_8YEkSZO5MUN1ta1pG7IbHHJL): academic_retriever *****\u001b[0m\n",
      "Arguments: \n",
      "{\"queries\":[\"accurate polymer representation in material science\",\"advanced polymer modeling techniques and interdisciplinary approaches\",\"integration of machine learning in polymer representation\",\"polymer feature extraction and data representation evolution due to machine learning\",\"case studies on polymer representations enhancing performance or scientific understanding\",\"computational strategies for unraveling complexity in polymer representation\",\"future research directions in polymer representation and interdisciplinary collaboration\"]}\n",
      "\u001b[32m***********************************************************************************\u001b[0m\n",
      "\n",
      "--------------------------------------------------------------------------------\n",
      "\u001b[32m\n",
      "Next speaker: editor_user\n",
      "\u001b[0m\n",
      "\u001b[35m\n",
      ">>>>>>>> EXECUTING FUNCTION academic_retriever...\u001b[0m\n"
     ]
    },
    {
     "name": "stderr",
     "output_type": "stream",
     "text": [
      "huggingface/tokenizers: The current process just got forked, after parallelism has already been used. Disabling parallelism to avoid deadlocks...\n",
      "To disable this warning, you can either:\n",
      "\t- Avoid using `tokenizers` before the fork if possible\n",
      "\t- Explicitly set the environment variable TOKENIZERS_PARALLELISM=(true | false)\n",
      "huggingface/tokenizers: The current process just got forked, after parallelism has already been used. Disabling parallelism to avoid deadlocks...\n",
      "To disable this warning, you can either:\n",
      "\t- Avoid using `tokenizers` before the fork if possible\n",
      "\t- Explicitly set the environment variable TOKENIZERS_PARALLELISM=(true | false)\n",
      "Could not close webdriver cleanly: Remote end closed connection without response\n",
      "huggingface/tokenizers: The current process just got forked, after parallelism has already been used. Disabling parallelism to avoid deadlocks...\n",
      "To disable this warning, you can either:\n",
      "\t- Avoid using `tokenizers` before the fork if possible\n",
      "\t- Explicitly set the environment variable TOKENIZERS_PARALLELISM=(true | false)\n",
      "huggingface/tokenizers: The current process just got forked, after parallelism has already been used. Disabling parallelism to avoid deadlocks...\n",
      "To disable this warning, you can either:\n",
      "\t- Avoid using `tokenizers` before the fork if possible\n",
      "\t- Explicitly set the environment variable TOKENIZERS_PARALLELISM=(true | false)\n"
     ]
    },
    {
     "name": "stdout",
     "output_type": "stream",
     "text": [
      "Error searching google_scholar: Cannot Fetch from Google Scholar.\n",
      "Error searching google_scholar: Cannot Fetch from Google Scholar.\n"
     ]
    },
    {
     "name": "stderr",
     "output_type": "stream",
     "text": [
      "huggingface/tokenizers: The current process just got forked, after parallelism has already been used. Disabling parallelism to avoid deadlocks...\n",
      "To disable this warning, you can either:\n",
      "\t- Avoid using `tokenizers` before the fork if possible\n",
      "\t- Explicitly set the environment variable TOKENIZERS_PARALLELISM=(true | false)\n",
      "huggingface/tokenizers: The current process just got forked, after parallelism has already been used. Disabling parallelism to avoid deadlocks...\n",
      "To disable this warning, you can either:\n",
      "\t- Avoid using `tokenizers` before the fork if possible\n",
      "\t- Explicitly set the environment variable TOKENIZERS_PARALLELISM=(true | false)\n",
      "huggingface/tokenizers: The current process just got forked, after parallelism has already been used. Disabling parallelism to avoid deadlocks...\n",
      "To disable this warning, you can either:\n",
      "\t- Avoid using `tokenizers` before the fork if possible\n",
      "\t- Explicitly set the environment variable TOKENIZERS_PARALLELISM=(true | false)\n",
      "huggingface/tokenizers: The current process just got forked, after parallelism has already been used. Disabling parallelism to avoid deadlocks...\n",
      "To disable this warning, you can either:\n",
      "\t- Avoid using `tokenizers` before the fork if possible\n",
      "\t- Explicitly set the environment variable TOKENIZERS_PARALLELISM=(true | false)\n"
     ]
    },
    {
     "name": "stdout",
     "output_type": "stream",
     "text": [
      "\u001b[92m    Location = ./polymer_representation/0.2/db/uid_text_dict.pkl\u001b[0m\n",
      "\u001b[92m    Location = ./polymer_representation/0.2/db/uid_text_dict.pkl\u001b[0m\n"
     ]
    },
    {
     "name": "stderr",
     "output_type": "stream",
     "text": [
      "huggingface/tokenizers: The current process just got forked, after parallelism has already been used. Disabling parallelism to avoid deadlocks...\n",
      "To disable this warning, you can either:\n",
      "\t- Avoid using `tokenizers` before the fork if possible\n",
      "\t- Explicitly set the environment variable TOKENIZERS_PARALLELISM=(true | false)\n"
     ]
    },
    {
     "name": "stdout",
     "output_type": "stream",
     "text": [
      "\u001b[92m    Location = ./polymer_representation/0.2/db/uid_text_dict.pkl\u001b[0m\n",
      "\u001b[92m    Location = ./polymer_representation/0.2/db/uid_text_dict.pkl\u001b[0m\n",
      "\u001b[92m    Location = ./polymer_representation/0.2/db/uid_text_dict.pkl\u001b[0m\n",
      "\u001b[92m    Location = ./polymer_representation/0.2/db/uid_text_dict.pkl\u001b[0m\n",
      "\u001b[92m    Location = ./polymer_representation/0.2/db/uid_text_dict.pkl\u001b[0m\n"
     ]
    },
    {
     "name": "stderr",
     "output_type": "stream",
     "text": [
      "huggingface/tokenizers: The current process just got forked, after parallelism has already been used. Disabling parallelism to avoid deadlocks...\n",
      "To disable this warning, you can either:\n",
      "\t- Avoid using `tokenizers` before the fork if possible\n",
      "\t- Explicitly set the environment variable TOKENIZERS_PARALLELISM=(true | false)\n",
      "huggingface/tokenizers: The current process just got forked, after parallelism has already been used. Disabling parallelism to avoid deadlocks...\n",
      "To disable this warning, you can either:\n",
      "\t- Avoid using `tokenizers` before the fork if possible\n",
      "\t- Explicitly set the environment variable TOKENIZERS_PARALLELISM=(true | false)\n"
     ]
    },
    {
     "name": "stdout",
     "output_type": "stream",
     "text": [
      "\u001b[92m    Location = ./polymer_representation/0.2/db/uid_text_dict.pkl\u001b[0m\n",
      "\u001b[92m    Location = ./polymer_representation/0.2/db/uid_text_dict.pkl\u001b[0m\n"
     ]
    },
    {
     "name": "stderr",
     "output_type": "stream",
     "text": [
      "huggingface/tokenizers: The current process just got forked, after parallelism has already been used. Disabling parallelism to avoid deadlocks...\n",
      "To disable this warning, you can either:\n",
      "\t- Avoid using `tokenizers` before the fork if possible\n",
      "\t- Explicitly set the environment variable TOKENIZERS_PARALLELISM=(true | false)\n",
      "Add of existing embedding ID: 192\n"
     ]
    },
    {
     "name": "stdout",
     "output_type": "stream",
     "text": [
      "\u001b[31m\n",
      ">>>>>>>> USING AUTO REPLY...\u001b[0m\n"
     ]
    },
    {
     "name": "stderr",
     "output_type": "stream",
     "text": [
      "Insert of existing embedding ID: 192\n"
     ]
    },
    {
     "name": "stdout",
     "output_type": "stream",
     "text": [
      "\u001b[31m\n",
      ">>>>>>>> USING AUTO REPLY...\u001b[0m\n",
      "\u001b[31m\n",
      ">>>>>>>> USING AUTO REPLY...\u001b[0m\n",
      "\u001b[31m\n",
      ">>>>>>>> USING AUTO REPLY...\u001b[0m\n",
      "\u001b[31m\n",
      ">>>>>>>> USING AUTO REPLY...\u001b[0m\n",
      "\u001b[31m\n",
      ">>>>>>>> USING AUTO REPLY...\u001b[0m\n",
      "\u001b[31m\n",
      ">>>>>>>> USING AUTO REPLY...\u001b[0m\n",
      "\u001b[31m\n",
      ">>>>>>>> USING AUTO REPLY...\u001b[0m\n"
     ]
    },
    {
     "name": "stderr",
     "output_type": "stream",
     "text": [
      "Add of existing embedding ID: 198\n",
      "Insert of existing embedding ID: 198\n"
     ]
    },
    {
     "name": "stdout",
     "output_type": "stream",
     "text": [
      "\u001b[31m\n",
      ">>>>>>>> USING AUTO REPLY...\u001b[0m\n"
     ]
    }
   ],
   "source": [
    "\n"
   ]
  },
  {
   "cell_type": "code",
   "execution_count": null,
   "metadata": {},
   "outputs": [],
   "source": [
    "from autosearch.communities.outline_agents import agentsconfig\n",
    "from autosearch.agents.agents_creator import AgentsCreator\n",
    "\n",
    "# agents = AgentsCreator(test_project.ProjectConfig, agents_config=agentsconfig).initialize_agents()\n",
    "# agents"
   ]
  },
  {
   "cell_type": "code",
   "execution_count": null,
   "metadata": {},
   "outputs": [],
   "source": [
    "tests = [\n",
    "    ('factual_check', {\n",
    "        \"text\": \"The collaboration between these fields also birthed differentiable programming frameworks for quantum chemistry, like TorchANI and TensorMol [4]. These latter-day frameworks enable researchers to quickly prototype neural networks that learn quantum mechanical laws directly from data, providing a valuable tool to accelerate discovery. This integration has offered promising results in tasks like molecular dynamics simulations, which are key for understanding chemical reactions and material properties.\", \n",
    "        \"paper_title\": \"Automated Calculation of Thermal Rate Coefficients using Ring Polymer Molecular Dynamics and Machine-Learning Interatomic Potentials with Active Learning\", \n",
    "        \"paper_url\": \"http://arxiv.org/pdf/1805.11924v3\", \n",
    "        \"reason\": \"To confirm the factual information about differentiable programming frameworks and their impact on research in quantum chemistry and neural networks.\"\n",
    "    }),\n",
    "    # ('get_pdfs', {\n",
    "    #     \"urls\": [\"http://arxiv.org/pdf/2305.13267v1\", \"http://arxiv.org/pdf/2305.06530v1\"],\n",
    "    #     \"reasons\": ['factual_check'] * 2\n",
    "    # }),\n",
    "    # ('get_pdf', {\n",
    "    #     \"url\": \"https://arxiv.org/pdf/2110.13711\",\n",
    "    #     \"reason\": \"factual_check\",\n",
    "    #     \"part\": \"full\"\n",
    "    # }),\n",
    "    # ('url_check',{\n",
    "    #         \"paper_url\": \"https://arxiv.org/pdf/2107.03012.pdf\",\n",
    "    #         \"paper_title\": \"From algebra to analysis: new proofs of theorems by Ritt and Seidenberg\"\n",
    "    # }),\n",
    "    # ('academic_retriever',{\n",
    "    #     \"queries\":[\"Large Language Models\", \"Assessing Language Models\", \"AI safety and reliability\"],\n",
    "    #     \"n_results\":3\n",
    "    # }),\n",
    "    # ('academic_search',{\"query\":\"Human-Centred Learning Analytics and AI in Education: a Systematic Literature Review\"}),\n",
    "]\n",
    "\n",
    "for fucn_name, args in tests:\n",
    "    results = None\n",
    "    for func in test_project.functions:\n",
    "        if func.name == fucn_name:\n",
    "            print(f\"Running {fucn_name} with args: {args}\")\n",
    "            results = func.func(**args)\n",
    "            print(results)\n",
    "    \n",
    "    if results is None:\n",
    "        print(f\"Function {fucn_name} not found\")\n",
    "        continue\n"
   ]
  },
  {
   "cell_type": "code",
   "execution_count": null,
   "metadata": {},
   "outputs": [],
   "source": [
    "func.get_function_details()"
   ]
  },
  {
   "cell_type": "code",
   "execution_count": null,
   "metadata": {},
   "outputs": [],
   "source": [
    "[func.name for func in test_project.functions]"
   ]
  },
  {
   "cell_type": "code",
   "execution_count": null,
   "metadata": {},
   "outputs": [],
   "source": []
  },
  {
   "cell_type": "code",
   "execution_count": null,
   "metadata": {},
   "outputs": [],
   "source": []
  },
  {
   "cell_type": "code",
   "execution_count": null,
   "metadata": {},
   "outputs": [],
   "source": []
  }
 ],
 "metadata": {
  "kernelspec": {
   "display_name": "autogen",
   "language": "python",
   "name": "python3"
  },
  "language_info": {
   "codemirror_mode": {
    "name": "ipython",
    "version": 3
   },
   "file_extension": ".py",
   "mimetype": "text/x-python",
   "name": "python",
   "nbconvert_exporter": "python",
   "pygments_lexer": "ipython3",
   "version": "3.12.0"
  }
 },
 "nbformat": 4,
 "nbformat_minor": 2
}
