{
 "cells": [
  {
   "cell_type": "code",
   "execution_count": null,
   "metadata": {},
   "outputs": [],
   "source": []
  },
  {
   "cell_type": "code",
   "execution_count": null,
   "metadata": {},
   "outputs": [],
   "source": [
    "# Usage example\n",
    "config = {\n",
    "    'doc_api_key': 'your_api_key',\n",
    "    'doc_endpoint': 'your_endpoint',\n",
    "    'manager': {\n",
    "        'llm_config': {...},\n",
    "        'is_termination_msg': lambda x: 'TERMINATE' in x.get('content', '')\n",
    "    },\n",
    "    'agent_configs': {\n",
    "        'outline': [\n",
    "            {\n",
    "                'name': 'editor',\n",
    "                'system_message': '...',\n",
    "                'llm_config': {...},\n",
    "                'teach_config': {...},\n",
    "                'functions': {\n",
    "                    'arxiv_retriever': arxiv_retriever,\n",
    "                    'arxiv_search': arxiv_search\n",
    "                }\n",
    "            },\n",
    "            {\n",
    "                'name': 'critic',\n",
    "                'system_message': '...',\n",
    "                'llm_config': {...},\n",
    "                'teach_config': {...},\n",
    "                'functions': {\n",
    "                    'factual_check': factual_check\n",
    "                }\n",
    "            }\n",
    "        ],\n",
    "        'writing': [...],  # Similar structure for writing agents\n",
    "        'compiling': [...]  # Similar structure for compiling agents\n",
    "    }\n",
    "}\n",
    "\n",
    "project = ResearchProject(\"polymer_rep\", \"0.0.2\", \n",
    "                          \"Exploring the Intricacies of Polymer Representation: Unraveling Complexity\", \n",
    "                          config)\n",
    "blog_post = project.run()\n",
    "\n",
    "# Save the blog post\n",
    "with open(f'{project.db.project_dir}/blog_post.md', 'w') as f:\n",
    "    f.write(blog_post)"
   ]
  }
 ],
 "metadata": {
  "language_info": {
   "name": "python"
  }
 },
 "nbformat": 4,
 "nbformat_minor": 2
}
