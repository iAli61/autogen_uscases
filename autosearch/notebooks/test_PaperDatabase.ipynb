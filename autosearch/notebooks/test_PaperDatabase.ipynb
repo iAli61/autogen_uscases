{
 "cells": [
  {
   "cell_type": "code",
   "execution_count": 1,
   "metadata": {},
   "outputs": [],
   "source": [
    "from autosearch.database.paper_database import PaperDatabase"
   ]
  },
  {
   "cell_type": "code",
   "execution_count": 2,
   "metadata": {},
   "outputs": [
    {
     "name": "stdout",
     "output_type": "stream",
     "text": [
      "Error: The 'url' field is mandatory for adding a paper.\n",
      "True\n",
      "True\n",
      "True\n",
      "{'url': 'https://arxiv.org/abs/1234.5678', 'title': '', 'authors': '', 'published_date': '', 'last_updated_date': ''}\n",
      "{'url': 'https://arxiv.org/abs/2345.6789', 'title': 'Partial Information Paper', 'authors': 'John Doe', 'published_date': '', 'last_updated_date': ''}\n",
      "{'url': 'https://arxiv.org/abs/3456.7890', 'title': 'Full Information Paper', 'authors': 'Jane Smith, Bob Johnson', 'published_date': '2023-05-15', 'last_updated_date': '2023-05-20', 'local_path': '/path/to/local/file.pdf'}\n"
     ]
    }
   ],
   "source": [
    "db = PaperDatabase(\"./project_test\")\n",
    "\n",
    "# Add a paper with only URL\n",
    "db.add_paper('read_abstracts', {\n",
    "    'url': 'https://arxiv.org/abs/1234.5678'\n",
    "})\n",
    "\n",
    "# Add a paper with partial information\n",
    "db.add_paper('read_abstracts', {\n",
    "    'url': 'https://arxiv.org/abs/2345.6789',\n",
    "    'title': 'Partial Information Paper',\n",
    "    'authors': 'John Doe'\n",
    "})\n",
    "\n",
    "# Add a paper with full information\n",
    "db.add_paper('read_papers', {\n",
    "    'url': 'https://arxiv.org/abs/3456.7890',\n",
    "    'title': 'Full Information Paper',\n",
    "    'authors': 'Jane Smith, Bob Johnson',\n",
    "    'published_date': '2023-05-15',\n",
    "    'last_updated_date': '2023-05-20',\n",
    "    'local_path': '/path/to/local/file.pdf'\n",
    "})\n",
    "\n",
    "# Try to add a paper without URL (this will raise an error)\n",
    "try:\n",
    "    db.add_paper('read_abstracts', {\n",
    "        'title': 'Paper Without URL'\n",
    "    })\n",
    "except ValueError as e:\n",
    "    print(f\"Error: {e}\")\n",
    "\n",
    "# Check if papers exist\n",
    "print(db.check_paper('https://arxiv.org/abs/1234.5678', 'read_abstracts'))\n",
    "print(db.check_paper('https://arxiv.org/abs/2345.6789', 'read_abstracts'))\n",
    "print(db.check_paper('https://arxiv.org/abs/3456.7890', 'read_papers'))\n",
    "\n",
    "# Get paper info\n",
    "print(db.get_paper_info('https://arxiv.org/abs/1234.5678', 'read_abstracts'))\n",
    "print(db.get_paper_info('https://arxiv.org/abs/2345.6789', 'read_abstracts'))\n",
    "print(db.get_paper_info('https://arxiv.org/abs/3456.7890', 'read_papers'))"
   ]
  },
  {
   "cell_type": "code",
   "execution_count": null,
   "metadata": {},
   "outputs": [],
   "source": []
  }
 ],
 "metadata": {
  "kernelspec": {
   "display_name": "Python 3",
   "language": "python",
   "name": "python3"
  },
  "language_info": {
   "codemirror_mode": {
    "name": "ipython",
    "version": 3
   },
   "file_extension": ".py",
   "mimetype": "text/x-python",
   "name": "python",
   "nbconvert_exporter": "python",
   "pygments_lexer": "ipython3",
   "version": "3.11.9"
  }
 },
 "nbformat": 4,
 "nbformat_minor": 2
}
