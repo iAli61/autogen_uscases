{
 "cells": [
  {
   "cell_type": "code",
   "execution_count": 2,
   "metadata": {},
   "outputs": [
    {
     "name": "stdout",
     "output_type": "stream",
     "text": [
      "Dataset({\n",
      "    features: ['text', 'text_type', 'topics', 'lewis_split', 'cgis_split', 'old_id', 'new_id', 'places', 'people', 'orgs', 'exchanges', 'date', 'title'],\n",
      "    num_rows: 3299\n",
      "})\n"
     ]
    }
   ],
   "source": [
    "from datasets import load_dataset\n",
    "\n",
    "dataset_name = 'reuters21578'  # Example: 'cnn_dailymail', 'xsum'\n",
    "\n",
    "dataset = load_dataset(dataset_name, \"ModApte\", split='test')\n",
    "\n",
    "print(dataset)\n"
   ]
  },
  {
   "cell_type": "code",
   "execution_count": 3,
   "metadata": {},
   "outputs": [
    {
     "data": {
      "text/html": [
       "<div>\n",
       "<style scoped>\n",
       "    .dataframe tbody tr th:only-of-type {\n",
       "        vertical-align: middle;\n",
       "    }\n",
       "\n",
       "    .dataframe tbody tr th {\n",
       "        vertical-align: top;\n",
       "    }\n",
       "\n",
       "    .dataframe thead th {\n",
       "        text-align: right;\n",
       "    }\n",
       "</style>\n",
       "<table border=\"1\" class=\"dataframe\">\n",
       "  <thead>\n",
       "    <tr style=\"text-align: right;\">\n",
       "      <th></th>\n",
       "      <th>text</th>\n",
       "      <th>text_type</th>\n",
       "      <th>topics</th>\n",
       "      <th>lewis_split</th>\n",
       "      <th>cgis_split</th>\n",
       "      <th>old_id</th>\n",
       "      <th>new_id</th>\n",
       "      <th>places</th>\n",
       "      <th>people</th>\n",
       "      <th>orgs</th>\n",
       "      <th>exchanges</th>\n",
       "      <th>date</th>\n",
       "      <th>title</th>\n",
       "    </tr>\n",
       "  </thead>\n",
       "  <tbody>\n",
       "    <tr>\n",
       "      <th>0</th>\n",
       "      <td>Mounting trade friction between the\\nU.S. And ...</td>\n",
       "      <td>\"NORM\"</td>\n",
       "      <td>[trade]</td>\n",
       "      <td>\"TEST\"</td>\n",
       "      <td>\"TRAINING-SET\"</td>\n",
       "      <td>\"3809\"</td>\n",
       "      <td>\"14826\"</td>\n",
       "      <td>[hong-kong, usa, japan, taiwan, malaysia, sout...</td>\n",
       "      <td>[]</td>\n",
       "      <td>[]</td>\n",
       "      <td>[]</td>\n",
       "      <td>8-APR-1987 01:03:47.52</td>\n",
       "      <td>ASIAN EXPORTERS FEAR DAMAGE FROM U.S.-JAPAN RIFT</td>\n",
       "    </tr>\n",
       "    <tr>\n",
       "      <th>1</th>\n",
       "      <td>A survey of 19 provinces and seven cities\\nsho...</td>\n",
       "      <td>\"NORM\"</td>\n",
       "      <td>[grain]</td>\n",
       "      <td>\"TEST\"</td>\n",
       "      <td>\"TRAINING-SET\"</td>\n",
       "      <td>\"3811\"</td>\n",
       "      <td>\"14828\"</td>\n",
       "      <td>[china]</td>\n",
       "      <td>[]</td>\n",
       "      <td>[]</td>\n",
       "      <td>[]</td>\n",
       "      <td>8-APR-1987 01:19:17.29</td>\n",
       "      <td>CHINA DAILY SAYS VERMIN EAT 7-12 PCT GRAIN STOCKS</td>\n",
       "    </tr>\n",
       "    <tr>\n",
       "      <th>2</th>\n",
       "      <td>The Ministry of International Trade and\\nIndus...</td>\n",
       "      <td>\"NORM\"</td>\n",
       "      <td>[crude, nat-gas]</td>\n",
       "      <td>\"TEST\"</td>\n",
       "      <td>\"TRAINING-SET\"</td>\n",
       "      <td>\"4356\"</td>\n",
       "      <td>\"14829\"</td>\n",
       "      <td>[japan]</td>\n",
       "      <td>[]</td>\n",
       "      <td>[]</td>\n",
       "      <td>[]</td>\n",
       "      <td>8-APR-1987 01:22:17.25</td>\n",
       "      <td>JAPAN TO REVISE LONG-TERM ENERGY DEMAND DOWNWARDS</td>\n",
       "    </tr>\n",
       "    <tr>\n",
       "      <th>3</th>\n",
       "      <td>Thailand's trade deficit widened to 4.5\\nbilli...</td>\n",
       "      <td>\"NORM\"</td>\n",
       "      <td>[trade, grain, rice, corn, sugar, tin, rubber]</td>\n",
       "      <td>\"TEST\"</td>\n",
       "      <td>\"TRAINING-SET\"</td>\n",
       "      <td>\"3815\"</td>\n",
       "      <td>\"14832\"</td>\n",
       "      <td>[thailand]</td>\n",
       "      <td>[]</td>\n",
       "      <td>[]</td>\n",
       "      <td>[]</td>\n",
       "      <td>8-APR-1987 01:45:09.09</td>\n",
       "      <td>THAI TRADE DEFICIT WIDENS IN FIRST QUARTER</td>\n",
       "    </tr>\n",
       "    <tr>\n",
       "      <th>4</th>\n",
       "      <td>Indonesia expects crude palm oil (CPO)\\nprices...</td>\n",
       "      <td>\"NORM\"</td>\n",
       "      <td>[veg-oil, palm-oil]</td>\n",
       "      <td>\"TEST\"</td>\n",
       "      <td>\"TRAINING-SET\"</td>\n",
       "      <td>\"3816\"</td>\n",
       "      <td>\"14833\"</td>\n",
       "      <td>[indonesia, malaysia]</td>\n",
       "      <td>[]</td>\n",
       "      <td>[]</td>\n",
       "      <td>[]</td>\n",
       "      <td>8-APR-1987 01:48:20.11</td>\n",
       "      <td>INDONESIA SEES CPO PRICE RISING SHARPLY</td>\n",
       "    </tr>\n",
       "  </tbody>\n",
       "</table>\n",
       "</div>"
      ],
      "text/plain": [
       "                                                text text_type  \\\n",
       "0  Mounting trade friction between the\\nU.S. And ...    \"NORM\"   \n",
       "1  A survey of 19 provinces and seven cities\\nsho...    \"NORM\"   \n",
       "2  The Ministry of International Trade and\\nIndus...    \"NORM\"   \n",
       "3  Thailand's trade deficit widened to 4.5\\nbilli...    \"NORM\"   \n",
       "4  Indonesia expects crude palm oil (CPO)\\nprices...    \"NORM\"   \n",
       "\n",
       "                                           topics lewis_split      cgis_split  \\\n",
       "0                                         [trade]      \"TEST\"  \"TRAINING-SET\"   \n",
       "1                                         [grain]      \"TEST\"  \"TRAINING-SET\"   \n",
       "2                                [crude, nat-gas]      \"TEST\"  \"TRAINING-SET\"   \n",
       "3  [trade, grain, rice, corn, sugar, tin, rubber]      \"TEST\"  \"TRAINING-SET\"   \n",
       "4                             [veg-oil, palm-oil]      \"TEST\"  \"TRAINING-SET\"   \n",
       "\n",
       "   old_id   new_id                                             places people  \\\n",
       "0  \"3809\"  \"14826\"  [hong-kong, usa, japan, taiwan, malaysia, sout...     []   \n",
       "1  \"3811\"  \"14828\"                                            [china]     []   \n",
       "2  \"4356\"  \"14829\"                                            [japan]     []   \n",
       "3  \"3815\"  \"14832\"                                         [thailand]     []   \n",
       "4  \"3816\"  \"14833\"                              [indonesia, malaysia]     []   \n",
       "\n",
       "  orgs exchanges                     date  \\\n",
       "0   []        []   8-APR-1987 01:03:47.52   \n",
       "1   []        []   8-APR-1987 01:19:17.29   \n",
       "2   []        []   8-APR-1987 01:22:17.25   \n",
       "3   []        []   8-APR-1987 01:45:09.09   \n",
       "4   []        []   8-APR-1987 01:48:20.11   \n",
       "\n",
       "                                               title  \n",
       "0   ASIAN EXPORTERS FEAR DAMAGE FROM U.S.-JAPAN RIFT  \n",
       "1  CHINA DAILY SAYS VERMIN EAT 7-12 PCT GRAIN STOCKS  \n",
       "2  JAPAN TO REVISE LONG-TERM ENERGY DEMAND DOWNWARDS  \n",
       "3         THAI TRADE DEFICIT WIDENS IN FIRST QUARTER  \n",
       "4            INDONESIA SEES CPO PRICE RISING SHARPLY  "
      ]
     },
     "execution_count": 3,
     "metadata": {},
     "output_type": "execute_result"
    }
   ],
   "source": [
    "# convert dataset to pandas dataframe\n",
    "\n",
    "import pandas as pd\n",
    "\n",
    "df = pd.DataFrame(dataset)\n",
    "df.head()"
   ]
  },
  {
   "cell_type": "code",
   "execution_count": 4,
   "metadata": {},
   "outputs": [
    {
     "ename": "KeyboardInterrupt",
     "evalue": "",
     "output_type": "error",
     "traceback": [
      "\u001b[0;31m---------------------------------------------------------------------------\u001b[0m",
      "\u001b[0;31mKeyboardInterrupt\u001b[0m                         Traceback (most recent call last)",
      "Cell \u001b[0;32mIn[4], line 11\u001b[0m\n\u001b[1;32m      8\u001b[0m \u001b[38;5;66;03m# Convert metadata values to strings\u001b[39;00m\n\u001b[1;32m      9\u001b[0m metadata_strings \u001b[38;5;241m=\u001b[39m df\u001b[38;5;241m.\u001b[39mdrop(columns\u001b[38;5;241m=\u001b[39m[\u001b[38;5;124m\"\u001b[39m\u001b[38;5;124mtext\u001b[39m\u001b[38;5;124m\"\u001b[39m])\u001b[38;5;241m.\u001b[39mastype(\u001b[38;5;28mstr\u001b[39m)\u001b[38;5;241m.\u001b[39mto_dict(orient\u001b[38;5;241m=\u001b[39m\u001b[38;5;124m\"\u001b[39m\u001b[38;5;124mrecords\u001b[39m\u001b[38;5;124m\"\u001b[39m)\n\u001b[0;32m---> 11\u001b[0m \u001b[43mcollection\u001b[49m\u001b[38;5;241;43m.\u001b[39;49m\u001b[43madd\u001b[49m\u001b[43m(\u001b[49m\n\u001b[1;32m     12\u001b[0m \u001b[43m    \u001b[49m\u001b[43mdocuments\u001b[49m\u001b[38;5;241;43m=\u001b[39;49m\u001b[43mdf\u001b[49m\u001b[38;5;241;43m.\u001b[39;49m\u001b[43mtext\u001b[49m\u001b[38;5;241;43m.\u001b[39;49m\u001b[43mto_list\u001b[49m\u001b[43m(\u001b[49m\u001b[43m)\u001b[49m\u001b[43m,\u001b[49m\n\u001b[1;32m     13\u001b[0m \u001b[43m    \u001b[49m\u001b[38;5;66;43;03m# convert IDs to strings\u001b[39;49;00m\n\u001b[1;32m     14\u001b[0m \u001b[43m    \u001b[49m\u001b[43mids\u001b[49m\u001b[38;5;241;43m=\u001b[39;49m\u001b[43m[\u001b[49m\u001b[38;5;28;43mstr\u001b[39;49m\u001b[43m(\u001b[49m\u001b[38;5;28;43mid\u001b[39;49m\u001b[43m)\u001b[49m\u001b[43m \u001b[49m\u001b[38;5;28;43;01mfor\u001b[39;49;00m\u001b[43m \u001b[49m\u001b[38;5;28;43mid\u001b[39;49m\u001b[43m \u001b[49m\u001b[38;5;129;43;01min\u001b[39;49;00m\u001b[43m \u001b[49m\u001b[43mdf\u001b[49m\u001b[38;5;241;43m.\u001b[39;49m\u001b[43mindex\u001b[49m\u001b[38;5;241;43m.\u001b[39;49m\u001b[43mto_list\u001b[49m\u001b[43m(\u001b[49m\u001b[43m)\u001b[49m\u001b[43m]\u001b[49m\u001b[43m,\u001b[49m\n\u001b[1;32m     15\u001b[0m \u001b[43m    \u001b[49m\u001b[38;5;66;43;03m# add the rest of fields as metadata\u001b[39;49;00m\n\u001b[1;32m     16\u001b[0m \u001b[43m    \u001b[49m\u001b[43mmetadatas\u001b[49m\u001b[38;5;241;43m=\u001b[39;49m\u001b[43mmetadata_strings\u001b[49m\n\u001b[1;32m     17\u001b[0m \u001b[43m)\u001b[49m\n",
      "File \u001b[0;32m/usr/local/lib/python3.11/site-packages/chromadb/api/models/Collection.py:154\u001b[0m, in \u001b[0;36mCollection.add\u001b[0;34m(self, ids, embeddings, metadatas, documents, images, uris)\u001b[0m\n\u001b[1;32m    151\u001b[0m \u001b[38;5;28;01mif\u001b[39;00m embeddings \u001b[38;5;129;01mis\u001b[39;00m \u001b[38;5;28;01mNone\u001b[39;00m:\n\u001b[1;32m    152\u001b[0m     \u001b[38;5;66;03m# At this point, we know that one of documents or images are provided from the validation above\u001b[39;00m\n\u001b[1;32m    153\u001b[0m     \u001b[38;5;28;01mif\u001b[39;00m documents \u001b[38;5;129;01mis\u001b[39;00m \u001b[38;5;129;01mnot\u001b[39;00m \u001b[38;5;28;01mNone\u001b[39;00m:\n\u001b[0;32m--> 154\u001b[0m         embeddings \u001b[38;5;241m=\u001b[39m \u001b[38;5;28;43mself\u001b[39;49m\u001b[38;5;241;43m.\u001b[39;49m\u001b[43m_embed\u001b[49m\u001b[43m(\u001b[49m\u001b[38;5;28;43minput\u001b[39;49m\u001b[38;5;241;43m=\u001b[39;49m\u001b[43mdocuments\u001b[49m\u001b[43m)\u001b[49m\n\u001b[1;32m    155\u001b[0m     \u001b[38;5;28;01melif\u001b[39;00m images \u001b[38;5;129;01mis\u001b[39;00m \u001b[38;5;129;01mnot\u001b[39;00m \u001b[38;5;28;01mNone\u001b[39;00m:\n\u001b[1;32m    156\u001b[0m         embeddings \u001b[38;5;241m=\u001b[39m \u001b[38;5;28mself\u001b[39m\u001b[38;5;241m.\u001b[39m_embed(\u001b[38;5;28minput\u001b[39m\u001b[38;5;241m=\u001b[39mimages)\n",
      "File \u001b[0;32m/usr/local/lib/python3.11/site-packages/chromadb/api/models/Collection.py:633\u001b[0m, in \u001b[0;36mCollection._embed\u001b[0;34m(self, input)\u001b[0m\n\u001b[1;32m    628\u001b[0m \u001b[38;5;28;01mif\u001b[39;00m \u001b[38;5;28mself\u001b[39m\u001b[38;5;241m.\u001b[39m_embedding_function \u001b[38;5;129;01mis\u001b[39;00m \u001b[38;5;28;01mNone\u001b[39;00m:\n\u001b[1;32m    629\u001b[0m     \u001b[38;5;28;01mraise\u001b[39;00m \u001b[38;5;167;01mValueError\u001b[39;00m(\n\u001b[1;32m    630\u001b[0m         \u001b[38;5;124m\"\u001b[39m\u001b[38;5;124mYou must provide an embedding function to compute embeddings.\u001b[39m\u001b[38;5;124m\"\u001b[39m\n\u001b[1;32m    631\u001b[0m         \u001b[38;5;124m\"\u001b[39m\u001b[38;5;124mhttps://docs.trychroma.com/embeddings\u001b[39m\u001b[38;5;124m\"\u001b[39m\n\u001b[1;32m    632\u001b[0m     )\n\u001b[0;32m--> 633\u001b[0m \u001b[38;5;28;01mreturn\u001b[39;00m \u001b[38;5;28;43mself\u001b[39;49m\u001b[38;5;241;43m.\u001b[39;49m\u001b[43m_embedding_function\u001b[49m\u001b[43m(\u001b[49m\u001b[38;5;28;43minput\u001b[39;49m\u001b[38;5;241;43m=\u001b[39;49m\u001b[38;5;28;43minput\u001b[39;49m\u001b[43m)\u001b[49m\n",
      "File \u001b[0;32m/usr/local/lib/python3.11/site-packages/chromadb/api/types.py:193\u001b[0m, in \u001b[0;36mEmbeddingFunction.__init_subclass__.<locals>.__call__\u001b[0;34m(self, input)\u001b[0m\n\u001b[1;32m    192\u001b[0m \u001b[38;5;28;01mdef\u001b[39;00m \u001b[38;5;21m__call__\u001b[39m(\u001b[38;5;28mself\u001b[39m: EmbeddingFunction[D], \u001b[38;5;28minput\u001b[39m: D) \u001b[38;5;241m-\u001b[39m\u001b[38;5;241m>\u001b[39m Embeddings:\n\u001b[0;32m--> 193\u001b[0m     result \u001b[38;5;241m=\u001b[39m \u001b[43mcall\u001b[49m\u001b[43m(\u001b[49m\u001b[38;5;28;43mself\u001b[39;49m\u001b[43m,\u001b[49m\u001b[43m \u001b[49m\u001b[38;5;28;43minput\u001b[39;49m\u001b[43m)\u001b[49m\n\u001b[1;32m    194\u001b[0m     \u001b[38;5;28;01mreturn\u001b[39;00m validate_embeddings(maybe_cast_one_to_many_embedding(result))\n",
      "File \u001b[0;32m/usr/local/lib/python3.11/site-packages/chromadb/utils/embedding_functions.py:525\u001b[0m, in \u001b[0;36mONNXMiniLM_L6_V2.__call__\u001b[0;34m(self, input)\u001b[0m\n\u001b[1;32m    522\u001b[0m \u001b[38;5;28;01mdef\u001b[39;00m \u001b[38;5;21m__call__\u001b[39m(\u001b[38;5;28mself\u001b[39m, \u001b[38;5;28minput\u001b[39m: Documents) \u001b[38;5;241m-\u001b[39m\u001b[38;5;241m>\u001b[39m Embeddings:\n\u001b[1;32m    523\u001b[0m     \u001b[38;5;66;03m# Only download the model when it is actually used\u001b[39;00m\n\u001b[1;32m    524\u001b[0m     \u001b[38;5;28mself\u001b[39m\u001b[38;5;241m.\u001b[39m_download_model_if_not_exists()\n\u001b[0;32m--> 525\u001b[0m     \u001b[38;5;28;01mreturn\u001b[39;00m cast(Embeddings, \u001b[38;5;28;43mself\u001b[39;49m\u001b[38;5;241;43m.\u001b[39;49m\u001b[43m_forward\u001b[49m\u001b[43m(\u001b[49m\u001b[38;5;28;43minput\u001b[39;49m\u001b[43m)\u001b[49m\u001b[38;5;241m.\u001b[39mtolist())\n",
      "File \u001b[0;32m/usr/local/lib/python3.11/site-packages/chromadb/utils/embedding_functions.py:468\u001b[0m, in \u001b[0;36mONNXMiniLM_L6_V2._forward\u001b[0;34m(self, documents, batch_size)\u001b[0m\n\u001b[1;32m    459\u001b[0m attention_mask \u001b[38;5;241m=\u001b[39m np\u001b[38;5;241m.\u001b[39marray([e\u001b[38;5;241m.\u001b[39mattention_mask \u001b[38;5;28;01mfor\u001b[39;00m e \u001b[38;5;129;01min\u001b[39;00m encoded])\n\u001b[1;32m    460\u001b[0m onnx_input \u001b[38;5;241m=\u001b[39m {\n\u001b[1;32m    461\u001b[0m     \u001b[38;5;124m\"\u001b[39m\u001b[38;5;124minput_ids\u001b[39m\u001b[38;5;124m\"\u001b[39m: np\u001b[38;5;241m.\u001b[39marray(input_ids, dtype\u001b[38;5;241m=\u001b[39mnp\u001b[38;5;241m.\u001b[39mint64),\n\u001b[1;32m    462\u001b[0m     \u001b[38;5;124m\"\u001b[39m\u001b[38;5;124mattention_mask\u001b[39m\u001b[38;5;124m\"\u001b[39m: np\u001b[38;5;241m.\u001b[39marray(attention_mask, dtype\u001b[38;5;241m=\u001b[39mnp\u001b[38;5;241m.\u001b[39mint64),\n\u001b[0;32m   (...)\u001b[0m\n\u001b[1;32m    466\u001b[0m     ),\n\u001b[1;32m    467\u001b[0m }\n\u001b[0;32m--> 468\u001b[0m model_output \u001b[38;5;241m=\u001b[39m \u001b[38;5;28;43mself\u001b[39;49m\u001b[38;5;241;43m.\u001b[39;49m\u001b[43mmodel\u001b[49m\u001b[38;5;241;43m.\u001b[39;49m\u001b[43mrun\u001b[49m\u001b[43m(\u001b[49m\u001b[38;5;28;43;01mNone\u001b[39;49;00m\u001b[43m,\u001b[49m\u001b[43m \u001b[49m\u001b[43monnx_input\u001b[49m\u001b[43m)\u001b[49m\n\u001b[1;32m    469\u001b[0m last_hidden_state \u001b[38;5;241m=\u001b[39m model_output[\u001b[38;5;241m0\u001b[39m]\n\u001b[1;32m    470\u001b[0m \u001b[38;5;66;03m# Perform mean pooling with attention weighting\u001b[39;00m\n",
      "File \u001b[0;32m/usr/local/lib/python3.11/site-packages/onnxruntime/capi/onnxruntime_inference_collection.py:220\u001b[0m, in \u001b[0;36mSession.run\u001b[0;34m(self, output_names, input_feed, run_options)\u001b[0m\n\u001b[1;32m    218\u001b[0m     output_names \u001b[38;5;241m=\u001b[39m [output\u001b[38;5;241m.\u001b[39mname \u001b[38;5;28;01mfor\u001b[39;00m output \u001b[38;5;129;01min\u001b[39;00m \u001b[38;5;28mself\u001b[39m\u001b[38;5;241m.\u001b[39m_outputs_meta]\n\u001b[1;32m    219\u001b[0m \u001b[38;5;28;01mtry\u001b[39;00m:\n\u001b[0;32m--> 220\u001b[0m     \u001b[38;5;28;01mreturn\u001b[39;00m \u001b[38;5;28;43mself\u001b[39;49m\u001b[38;5;241;43m.\u001b[39;49m\u001b[43m_sess\u001b[49m\u001b[38;5;241;43m.\u001b[39;49m\u001b[43mrun\u001b[49m\u001b[43m(\u001b[49m\u001b[43moutput_names\u001b[49m\u001b[43m,\u001b[49m\u001b[43m \u001b[49m\u001b[43minput_feed\u001b[49m\u001b[43m,\u001b[49m\u001b[43m \u001b[49m\u001b[43mrun_options\u001b[49m\u001b[43m)\u001b[49m\n\u001b[1;32m    221\u001b[0m \u001b[38;5;28;01mexcept\u001b[39;00m C\u001b[38;5;241m.\u001b[39mEPFail \u001b[38;5;28;01mas\u001b[39;00m err:\n\u001b[1;32m    222\u001b[0m     \u001b[38;5;28;01mif\u001b[39;00m \u001b[38;5;28mself\u001b[39m\u001b[38;5;241m.\u001b[39m_enable_fallback:\n",
      "\u001b[0;31mKeyboardInterrupt\u001b[0m: "
     ]
    }
   ],
   "source": [
    "# let create a new chroma collection and ingest test dataset into it\n",
    "\n",
    "import chromadb\n",
    "chroma_client = chromadb.PersistentClient(path=\"./chroma_reuters21578/\")\n",
    "\n",
    "collection = chroma_client.get_or_create_collection(name=\"test\")\n",
    "\n",
    "# Convert metadata values to strings\n",
    "metadata_strings = df.drop(columns=[\"text\"]).astype(str).to_dict(orient=\"records\")\n",
    "\n",
    "collection.add(\n",
    "    documents=df.text.to_list(),\n",
    "    # convert IDs to strings\n",
    "    ids=[str(id) for id in df.index.to_list()],\n",
    "    # add the rest of fields as metadata\n",
    "    metadatas=metadata_strings\n",
    ")\n"
   ]
  },
  {
   "cell_type": "code",
   "execution_count": null,
   "metadata": {},
   "outputs": [
    {
     "data": {
      "text/plain": [
       "3299"
      ]
     },
     "execution_count": 12,
     "metadata": {},
     "output_type": "execute_result"
    }
   ],
   "source": [
    "collection.count()"
   ]
  },
  {
   "cell_type": "code",
   "execution_count": 6,
   "metadata": {},
   "outputs": [],
   "source": [
    "# query\n",
    "\n",
    "import chromadb\n",
    "\n",
    "def chroma_query(path, collection_name, query):\n",
    "    chroma_client = chromadb.PersistentClient(path=path)\n",
    "    collection = chroma_client.get_or_create_collection(name=collection_name)\n",
    "    results = collection.query(query_texts=[query], n_results=2)\n",
    "    return results"
   ]
  },
  {
   "cell_type": "code",
   "execution_count": 7,
   "metadata": {},
   "outputs": [
    {
     "data": {
      "text/plain": [
       "{'ids': [['1677', '1685']],\n",
       " 'distances': [[0.5689047574996948, 0.5837762951850891]],\n",
       " 'metadatas': [[{'cgis_split': '\"TRAINING-SET\"',\n",
       "    'date': ' 2-JUN-1987 08:15:26.19',\n",
       "    'exchanges': '[]',\n",
       "    'lewis_split': '\"TEST\"',\n",
       "    'new_id': '\"17958\"',\n",
       "    'old_id': '\"7403\"',\n",
       "    'orgs': '[]',\n",
       "    'people': '[]',\n",
       "    'places': \"['italy', 'usa']\",\n",
       "    'text_type': '\"NORM\"',\n",
       "    'title': \"ITALY'S AGIP PETROLI BUYS STAKE IN U.S. COMPANY\",\n",
       "    'topics': \"['acq']\"},\n",
       "   {'cgis_split': '\"TRAINING-SET\"',\n",
       "    'date': ' 2-JUN-1987 08:54:46.11',\n",
       "    'exchanges': '[]',\n",
       "    'lewis_split': '\"TEST\"',\n",
       "    'new_id': '\"17968\"',\n",
       "    'old_id': '\"7413\"',\n",
       "    'orgs': '[]',\n",
       "    'people': '[]',\n",
       "    'places': \"['usa', 'italy']\",\n",
       "    'text_type': '\"NORM\"',\n",
       "    'title': 'ENI UNIT AGIP PETROLI BUYS STAKE IN U.S. COMPANY',\n",
       "    'topics': \"['acq']\"}]],\n",
       " 'embeddings': None,\n",
       " 'documents': [['State oil firm Agip Petroli Spa said it has\\nacquired a 50 pct stake in Steuart Petroleum Co, an independent\\nU.S. Oil products company. Financial terms were not disclosed.\\n    Agip Petroli, a subsidiary of state energy concern Ente\\nNazionali Idrocarburi, said in a statement that the remaining\\n50 pct of the U.S. Firm is owned by Steuart Investment Co, a\\nholding company that also operates in the sectors of\\ntransportation, hotels and insurance.\\n    The Italian firm said Steuart Petroleum operates primarily\\non the East Coast.\\n REUTER\\n',\n",
       "   'A subsidiary of state energy concern Ente\\nNazionali Idrocarburi &lt;ENTN.MI> (ENI) said it has acquired a 50\\npct stake in &lt;Steuart Petroleum Co>, an independent U.S. Oil\\nproducts company. Financial terms were not disclosed.\\n    Agip Petroli Spa said in a statement that the remaining 50\\npct of the U.S. Firm is owned by &lt;Steuart Investment Co>, a\\nholding company which also has interests transportation, hotels\\nand insurance.\\n    The Italian firm said Steuart Petroleum operates primarily\\non the East Coast of the U.S.\\n Reuter\\n']],\n",
       " 'uris': None,\n",
       " 'data': None}"
      ]
     },
     "execution_count": 7,
     "metadata": {},
     "output_type": "execute_result"
    }
   ],
   "source": [
    "query = \"Which company acquired a 50% stake in Steuart Petroleum Co?\"\n",
    "results = chroma_query(\"./chroma_reuters21578/\", \"test\", query)\n",
    "results"
   ]
  },
  {
   "cell_type": "code",
   "execution_count": null,
   "metadata": {},
   "outputs": [],
   "source": []
  }
 ],
 "metadata": {
  "kernelspec": {
   "display_name": "Python 3",
   "language": "python",
   "name": "python3"
  },
  "language_info": {
   "codemirror_mode": {
    "name": "ipython",
    "version": 3
   },
   "file_extension": ".py",
   "mimetype": "text/x-python",
   "name": "python",
   "nbconvert_exporter": "python",
   "pygments_lexer": "ipython3",
   "version": "3.11.8"
  }
 },
 "nbformat": 4,
 "nbformat_minor": 2
}
