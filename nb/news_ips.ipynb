{
 "cells": [
  {
   "cell_type": "code",
   "execution_count": 2,
   "metadata": {},
   "outputs": [
    {
     "name": "stdout",
     "output_type": "stream",
     "text": [
      "Title: Boeing, Airbus exploring framework to divvy up Spirit Aero's operations\n",
      "URL: https://www.reuters.com/markets/deals/boeing-airbus-exploring-framework-divvy-up-spirit-aeros-operations-sources-say-2024-04-04/\n",
      "Score: 2\n",
      "--------------------------------------------------\n",
      "Title: Camilla Boemann, a Danish developer who is part of the AmigaOS team\n",
      "URL: http://obligement.free.fr/articles_traduction/itwcamillaboemann_en.php\n",
      "Score: 2\n",
      "--------------------------------------------------\n",
      "Title: Feds probe massive alleged classified US govt data theft and leak\n",
      "URL: https://www.theregister.com/2024/04/04/feds_data_dump/\n",
      "Score: 3\n",
      "--------------------------------------------------\n"
     ]
    }
   ],
   "source": [
    "import requests\n",
    "\n",
    "# Keywords related to monetary policy\n",
    "keywords = [\n",
    "    'monetary policy', 'central bank', 'ECB', 'Federal Reserve', 'Fed',\n",
    "    'Bank of England', 'BoE', 'Bank of Japan', 'BoJ', 'inflation', 'job reports',\n",
    "    'EURUSD', 'inflation swaps', 'Federal Open Market Committee', 'FOMC',\n",
    "    'European Central Bank', 'economic data', 'interest rates', 'currency market'\n",
    "]\n",
    "\n",
    "# URL for the latest items on Hacker News\n",
    "latest_items_url = 'https://hacker-news.firebaseio.com/v0/newstories.json'\n",
    "\n",
    "def fetch_items(url):\n",
    "    \"\"\"Fetch latest item IDs from Hacker News.\"\"\"\n",
    "    response = requests.get(url)\n",
    "    if response.status_code == 200:\n",
    "        return response.json()\n",
    "    else:\n",
    "        print('Failed to fetch data')\n",
    "        return []\n",
    "\n",
    "def get_item_details(item_id):\n",
    "    \"\"\"Fetch item details by ID.\"\"\"\n",
    "    url = f'https://hacker-news.firebaseio.com/v0/item/{item_id}.json'\n",
    "    response = requests.get(url)\n",
    "    if response.status_code == 200:\n",
    "        return response.json()\n",
    "    else:\n",
    "        print(f'Failed to fetch item {item_id}')\n",
    "        return None\n",
    "\n",
    "def main():\n",
    "    # Fetch the latest items\n",
    "    item_ids = fetch_items(latest_items_url)[:1000]  # Increase the number to search deeper\n",
    "\n",
    "    relevant_items = []\n",
    "    for item_id in item_ids:\n",
    "        item = get_item_details(item_id)\n",
    "        if item and 'title' in item:\n",
    "            title = item['title'].lower()\n",
    "            # Check if the title contains any of the keywords\n",
    "            if any(keyword.lower() in title for keyword in keywords):\n",
    "                relevant_items.append({\n",
    "                    \"title\": item['title'],\n",
    "                    \"url\": item.get('url', 'No URL'),\n",
    "                    \"score\": item.get('score', 'No score')\n",
    "                })\n",
    "\n",
    "    # Print or process the filtered relevant items\n",
    "    for item in relevant_items:\n",
    "        print(f\"Title: {item['title']}\")\n",
    "        print(f\"URL: {item['url']}\")\n",
    "        print(f\"Score: {item['score']}\")\n",
    "        print(\"-\" * 50)\n",
    "\n",
    "if __name__ == \"__main__\":\n",
    "    main()\n"
   ]
  },
  {
   "cell_type": "code",
   "execution_count": null,
   "metadata": {},
   "outputs": [],
   "source": []
  }
 ],
 "metadata": {
  "kernelspec": {
   "display_name": "Python 3",
   "language": "python",
   "name": "python3"
  },
  "language_info": {
   "codemirror_mode": {
    "name": "ipython",
    "version": 3
   },
   "file_extension": ".py",
   "mimetype": "text/x-python",
   "name": "python",
   "nbconvert_exporter": "python",
   "pygments_lexer": "ipython3",
   "version": "3.11.8"
  }
 },
 "nbformat": 4,
 "nbformat_minor": 2
}
